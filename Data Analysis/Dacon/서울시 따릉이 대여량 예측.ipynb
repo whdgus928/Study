{
 "cells": [
  {
   "cell_type": "code",
   "execution_count": 31,
   "id": "30d79c3c",
   "metadata": {},
   "outputs": [],
   "source": [
    "#python 파이썬 라이브러리 불러오기(import)\n",
    "#import [라이브러리] as [사용할이름]\n",
    "import pandas as pd"
   ]
  },
  {
   "cell_type": "code",
   "execution_count": 32,
   "id": "5a98a368",
   "metadata": {},
   "outputs": [],
   "source": [
    "#데이터 다운로드\n",
    "#!wget 'https://bit.ly/3gLj0Q6'"
   ]
  },
  {
   "cell_type": "code",
   "execution_count": 33,
   "id": "6af18129",
   "metadata": {},
   "outputs": [],
   "source": [
    "# data 폴더에 있는 test.csv 파일과 train.csv 불러오기\n",
    "train = pd.read_csv('c:/data/train.csv')\n",
    "test = pd.read_csv('c:/data/test.csv')"
   ]
  },
  {
   "cell_type": "code",
   "execution_count": 34,
   "id": "2d2e9ed5",
   "metadata": {},
   "outputs": [
    {
     "data": {
      "text/plain": [
       "((1459, 11), (715, 10))"
      ]
     },
     "execution_count": 34,
     "metadata": {},
     "output_type": "execute_result"
    }
   ],
   "source": [
    "# shape 를 이용해 train 과 test 의 행과 열의 갯수를 파악\n",
    "train.shape, test.shape"
   ]
  },
  {
   "cell_type": "code",
   "execution_count": 35,
   "id": "42405646",
   "metadata": {},
   "outputs": [
    {
     "data": {
      "text/html": [
       "<div>\n",
       "<style scoped>\n",
       "    .dataframe tbody tr th:only-of-type {\n",
       "        vertical-align: middle;\n",
       "    }\n",
       "\n",
       "    .dataframe tbody tr th {\n",
       "        vertical-align: top;\n",
       "    }\n",
       "\n",
       "    .dataframe thead th {\n",
       "        text-align: right;\n",
       "    }\n",
       "</style>\n",
       "<table border=\"1\" class=\"dataframe\">\n",
       "  <thead>\n",
       "    <tr style=\"text-align: right;\">\n",
       "      <th></th>\n",
       "      <th>id</th>\n",
       "      <th>hour</th>\n",
       "      <th>hour_bef_temperature</th>\n",
       "      <th>hour_bef_precipitation</th>\n",
       "      <th>hour_bef_windspeed</th>\n",
       "      <th>hour_bef_humidity</th>\n",
       "      <th>hour_bef_visibility</th>\n",
       "      <th>hour_bef_ozone</th>\n",
       "      <th>hour_bef_pm10</th>\n",
       "      <th>hour_bef_pm2.5</th>\n",
       "      <th>count</th>\n",
       "    </tr>\n",
       "  </thead>\n",
       "  <tbody>\n",
       "    <tr>\n",
       "      <th>0</th>\n",
       "      <td>3</td>\n",
       "      <td>20</td>\n",
       "      <td>16.3</td>\n",
       "      <td>1.0</td>\n",
       "      <td>1.5</td>\n",
       "      <td>89.0</td>\n",
       "      <td>576.0</td>\n",
       "      <td>0.027</td>\n",
       "      <td>76.0</td>\n",
       "      <td>33.0</td>\n",
       "      <td>49.0</td>\n",
       "    </tr>\n",
       "    <tr>\n",
       "      <th>1</th>\n",
       "      <td>6</td>\n",
       "      <td>13</td>\n",
       "      <td>20.1</td>\n",
       "      <td>0.0</td>\n",
       "      <td>1.4</td>\n",
       "      <td>48.0</td>\n",
       "      <td>916.0</td>\n",
       "      <td>0.042</td>\n",
       "      <td>73.0</td>\n",
       "      <td>40.0</td>\n",
       "      <td>159.0</td>\n",
       "    </tr>\n",
       "    <tr>\n",
       "      <th>2</th>\n",
       "      <td>7</td>\n",
       "      <td>6</td>\n",
       "      <td>13.9</td>\n",
       "      <td>0.0</td>\n",
       "      <td>0.7</td>\n",
       "      <td>79.0</td>\n",
       "      <td>1382.0</td>\n",
       "      <td>0.033</td>\n",
       "      <td>32.0</td>\n",
       "      <td>19.0</td>\n",
       "      <td>26.0</td>\n",
       "    </tr>\n",
       "    <tr>\n",
       "      <th>3</th>\n",
       "      <td>8</td>\n",
       "      <td>23</td>\n",
       "      <td>8.1</td>\n",
       "      <td>0.0</td>\n",
       "      <td>2.7</td>\n",
       "      <td>54.0</td>\n",
       "      <td>946.0</td>\n",
       "      <td>0.040</td>\n",
       "      <td>75.0</td>\n",
       "      <td>64.0</td>\n",
       "      <td>57.0</td>\n",
       "    </tr>\n",
       "    <tr>\n",
       "      <th>4</th>\n",
       "      <td>9</td>\n",
       "      <td>18</td>\n",
       "      <td>29.5</td>\n",
       "      <td>0.0</td>\n",
       "      <td>4.8</td>\n",
       "      <td>7.0</td>\n",
       "      <td>2000.0</td>\n",
       "      <td>0.057</td>\n",
       "      <td>27.0</td>\n",
       "      <td>11.0</td>\n",
       "      <td>431.0</td>\n",
       "    </tr>\n",
       "    <tr>\n",
       "      <th>5</th>\n",
       "      <td>13</td>\n",
       "      <td>2</td>\n",
       "      <td>13.6</td>\n",
       "      <td>0.0</td>\n",
       "      <td>1.7</td>\n",
       "      <td>80.0</td>\n",
       "      <td>1073.0</td>\n",
       "      <td>0.027</td>\n",
       "      <td>34.0</td>\n",
       "      <td>15.0</td>\n",
       "      <td>39.0</td>\n",
       "    </tr>\n",
       "    <tr>\n",
       "      <th>6</th>\n",
       "      <td>14</td>\n",
       "      <td>3</td>\n",
       "      <td>10.6</td>\n",
       "      <td>0.0</td>\n",
       "      <td>1.5</td>\n",
       "      <td>58.0</td>\n",
       "      <td>1548.0</td>\n",
       "      <td>0.038</td>\n",
       "      <td>62.0</td>\n",
       "      <td>33.0</td>\n",
       "      <td>23.0</td>\n",
       "    </tr>\n",
       "    <tr>\n",
       "      <th>7</th>\n",
       "      <td>16</td>\n",
       "      <td>21</td>\n",
       "      <td>16.0</td>\n",
       "      <td>0.0</td>\n",
       "      <td>6.0</td>\n",
       "      <td>21.0</td>\n",
       "      <td>1961.0</td>\n",
       "      <td>0.050</td>\n",
       "      <td>90.0</td>\n",
       "      <td>28.0</td>\n",
       "      <td>146.0</td>\n",
       "    </tr>\n",
       "    <tr>\n",
       "      <th>8</th>\n",
       "      <td>19</td>\n",
       "      <td>9</td>\n",
       "      <td>13.8</td>\n",
       "      <td>0.0</td>\n",
       "      <td>1.9</td>\n",
       "      <td>64.0</td>\n",
       "      <td>1344.0</td>\n",
       "      <td>0.039</td>\n",
       "      <td>93.0</td>\n",
       "      <td>19.0</td>\n",
       "      <td>39.0</td>\n",
       "    </tr>\n",
       "    <tr>\n",
       "      <th>9</th>\n",
       "      <td>20</td>\n",
       "      <td>14</td>\n",
       "      <td>17.2</td>\n",
       "      <td>0.0</td>\n",
       "      <td>2.1</td>\n",
       "      <td>32.0</td>\n",
       "      <td>1571.0</td>\n",
       "      <td>0.025</td>\n",
       "      <td>64.0</td>\n",
       "      <td>19.0</td>\n",
       "      <td>83.0</td>\n",
       "    </tr>\n",
       "  </tbody>\n",
       "</table>\n",
       "</div>"
      ],
      "text/plain": [
       "   id  hour  hour_bef_temperature  hour_bef_precipitation  hour_bef_windspeed  \\\n",
       "0   3    20                  16.3                     1.0                 1.5   \n",
       "1   6    13                  20.1                     0.0                 1.4   \n",
       "2   7     6                  13.9                     0.0                 0.7   \n",
       "3   8    23                   8.1                     0.0                 2.7   \n",
       "4   9    18                  29.5                     0.0                 4.8   \n",
       "5  13     2                  13.6                     0.0                 1.7   \n",
       "6  14     3                  10.6                     0.0                 1.5   \n",
       "7  16    21                  16.0                     0.0                 6.0   \n",
       "8  19     9                  13.8                     0.0                 1.9   \n",
       "9  20    14                  17.2                     0.0                 2.1   \n",
       "\n",
       "   hour_bef_humidity  hour_bef_visibility  hour_bef_ozone  hour_bef_pm10  \\\n",
       "0               89.0                576.0           0.027           76.0   \n",
       "1               48.0                916.0           0.042           73.0   \n",
       "2               79.0               1382.0           0.033           32.0   \n",
       "3               54.0                946.0           0.040           75.0   \n",
       "4                7.0               2000.0           0.057           27.0   \n",
       "5               80.0               1073.0           0.027           34.0   \n",
       "6               58.0               1548.0           0.038           62.0   \n",
       "7               21.0               1961.0           0.050           90.0   \n",
       "8               64.0               1344.0           0.039           93.0   \n",
       "9               32.0               1571.0           0.025           64.0   \n",
       "\n",
       "   hour_bef_pm2.5  count  \n",
       "0            33.0   49.0  \n",
       "1            40.0  159.0  \n",
       "2            19.0   26.0  \n",
       "3            64.0   57.0  \n",
       "4            11.0  431.0  \n",
       "5            15.0   39.0  \n",
       "6            33.0   23.0  \n",
       "7            28.0  146.0  \n",
       "8            19.0   39.0  \n",
       "9            19.0   83.0  "
      ]
     },
     "execution_count": 35,
     "metadata": {},
     "output_type": "execute_result"
    }
   ],
   "source": [
    "#head() 메서드를 이용해 train 데이터의 상위 10개 행을 출력\n",
    "#tail()은 데이터 하단\n",
    "train.head(10)"
   ]
  },
  {
   "cell_type": "code",
   "execution_count": 36,
   "id": "31fc2364",
   "metadata": {},
   "outputs": [
    {
     "name": "stdout",
     "output_type": "stream",
     "text": [
      "         id   hour  hour_bef_temperature  hour_bef_precipitation  \\\n",
      "0     False  False                 False                   False   \n",
      "1     False  False                 False                   False   \n",
      "2     False  False                 False                   False   \n",
      "3     False  False                 False                   False   \n",
      "4     False  False                 False                   False   \n",
      "...     ...    ...                   ...                     ...   \n",
      "1454  False  False                 False                   False   \n",
      "1455  False  False                 False                   False   \n",
      "1456  False  False                 False                   False   \n",
      "1457  False  False                 False                   False   \n",
      "1458  False  False                 False                   False   \n",
      "\n",
      "      hour_bef_windspeed  hour_bef_humidity  hour_bef_visibility  \\\n",
      "0                  False              False                False   \n",
      "1                  False              False                False   \n",
      "2                  False              False                False   \n",
      "3                  False              False                False   \n",
      "4                  False              False                False   \n",
      "...                  ...                ...                  ...   \n",
      "1454               False              False                False   \n",
      "1455               False              False                False   \n",
      "1456               False              False                False   \n",
      "1457               False              False                False   \n",
      "1458               False              False                False   \n",
      "\n",
      "      hour_bef_ozone  hour_bef_pm10  hour_bef_pm2.5  count  \n",
      "0              False          False           False  False  \n",
      "1              False          False           False  False  \n",
      "2              False          False           False  False  \n",
      "3              False          False           False  False  \n",
      "4              False          False           False  False  \n",
      "...              ...            ...             ...    ...  \n",
      "1454           False          False           False  False  \n",
      "1455           False          False           False  False  \n",
      "1456           False          False           False  False  \n",
      "1457           False          False           False  False  \n",
      "1458           False          False           False  False  \n",
      "\n",
      "[1459 rows x 11 columns]\n",
      "\n",
      "--------------------------------train.csv 각 열 별 결측치 수--------------------------------\n",
      "\n",
      "id                          0\n",
      "hour                        0\n",
      "hour_bef_temperature        2\n",
      "hour_bef_precipitation      2\n",
      "hour_bef_windspeed          9\n",
      "hour_bef_humidity           2\n",
      "hour_bef_visibility         2\n",
      "hour_bef_ozone             76\n",
      "hour_bef_pm10              90\n",
      "hour_bef_pm2.5            117\n",
      "count                       0\n",
      "dtype: int64\n"
     ]
    }
   ],
   "source": [
    "#train.csv 의 결측치를 확인\n",
    "#모델링에 앞서 결측치가 있다면, 결측치들을 어떻게 다뤄야할지 고민하고 처리하는 과정이 필요\n",
    "print(train.isnull())\n",
    "print('\\n--------------------------------train.csv 각 열 별 결측치 수--------------------------------\\n')\n",
    "print(train.isnull().sum())"
   ]
  },
  {
   "cell_type": "code",
   "execution_count": 37,
   "id": "1e6e17f7",
   "metadata": {},
   "outputs": [
    {
     "name": "stdout",
     "output_type": "stream",
     "text": [
      "        id   hour  hour_bef_temperature  hour_bef_precipitation  \\\n",
      "0    False  False                 False                   False   \n",
      "1    False  False                 False                   False   \n",
      "2    False  False                 False                   False   \n",
      "3    False  False                 False                   False   \n",
      "4    False  False                 False                   False   \n",
      "..     ...    ...                   ...                     ...   \n",
      "710  False  False                 False                   False   \n",
      "711  False  False                 False                   False   \n",
      "712  False  False                 False                   False   \n",
      "713  False  False                 False                   False   \n",
      "714  False  False                 False                   False   \n",
      "\n",
      "     hour_bef_windspeed  hour_bef_humidity  hour_bef_visibility  \\\n",
      "0                 False              False                False   \n",
      "1                 False              False                False   \n",
      "2                 False              False                False   \n",
      "3                 False              False                False   \n",
      "4                 False              False                False   \n",
      "..                  ...                ...                  ...   \n",
      "710               False              False                False   \n",
      "711               False              False                False   \n",
      "712               False              False                False   \n",
      "713               False              False                False   \n",
      "714               False              False                False   \n",
      "\n",
      "     hour_bef_ozone  hour_bef_pm10  hour_bef_pm2.5  \n",
      "0             False          False           False  \n",
      "1             False          False           False  \n",
      "2             False          False           False  \n",
      "3             False          False           False  \n",
      "4             False          False           False  \n",
      "..              ...            ...             ...  \n",
      "710            True           True            True  \n",
      "711            True           True            True  \n",
      "712           False          False           False  \n",
      "713           False          False           False  \n",
      "714           False          False           False  \n",
      "\n",
      "[715 rows x 10 columns]\n",
      "\n",
      "--------------------------------test.csv 각 열 별 결측치 수--------------------------------\n",
      "\n",
      "id                         0\n",
      "hour                       0\n",
      "hour_bef_temperature       1\n",
      "hour_bef_precipitation     1\n",
      "hour_bef_windspeed         1\n",
      "hour_bef_humidity          1\n",
      "hour_bef_visibility        1\n",
      "hour_bef_ozone            35\n",
      "hour_bef_pm10             37\n",
      "hour_bef_pm2.5            36\n",
      "dtype: int64\n"
     ]
    }
   ],
   "source": [
    "#test.csv 의 결측치를 확인\n",
    "#모델링에 앞서 결측치가 있다면, 결측치들을 어떻게 다뤄야할지 고민하고 처리하는 과정이 필요\n",
    "print(test.isnull())\n",
    "print('\\n--------------------------------test.csv 각 열 별 결측치 수--------------------------------\\n')\n",
    "print(test.isnull().sum())"
   ]
  },
  {
   "cell_type": "code",
   "execution_count": 38,
   "id": "2ff916f7",
   "metadata": {},
   "outputs": [
    {
     "name": "stdout",
     "output_type": "stream",
     "text": [
      "<class 'pandas.core.frame.DataFrame'>\n",
      "RangeIndex: 1459 entries, 0 to 1458\n",
      "Data columns (total 11 columns):\n",
      " #   Column                  Non-Null Count  Dtype  \n",
      "---  ------                  --------------  -----  \n",
      " 0   id                      1459 non-null   int64  \n",
      " 1   hour                    1459 non-null   int64  \n",
      " 2   hour_bef_temperature    1457 non-null   float64\n",
      " 3   hour_bef_precipitation  1457 non-null   float64\n",
      " 4   hour_bef_windspeed      1450 non-null   float64\n",
      " 5   hour_bef_humidity       1457 non-null   float64\n",
      " 6   hour_bef_visibility     1457 non-null   float64\n",
      " 7   hour_bef_ozone          1383 non-null   float64\n",
      " 8   hour_bef_pm10           1369 non-null   float64\n",
      " 9   hour_bef_pm2.5          1342 non-null   float64\n",
      " 10  count                   1459 non-null   float64\n",
      "dtypes: float64(9), int64(2)\n",
      "memory usage: 125.5 KB\n",
      "<class 'pandas.core.frame.DataFrame'>\n",
      "RangeIndex: 715 entries, 0 to 714\n",
      "Data columns (total 10 columns):\n",
      " #   Column                  Non-Null Count  Dtype  \n",
      "---  ------                  --------------  -----  \n",
      " 0   id                      715 non-null    int64  \n",
      " 1   hour                    715 non-null    int64  \n",
      " 2   hour_bef_temperature    714 non-null    float64\n",
      " 3   hour_bef_precipitation  714 non-null    float64\n",
      " 4   hour_bef_windspeed      714 non-null    float64\n",
      " 5   hour_bef_humidity       714 non-null    float64\n",
      " 6   hour_bef_visibility     714 non-null    float64\n",
      " 7   hour_bef_ozone          680 non-null    float64\n",
      " 8   hour_bef_pm10           678 non-null    float64\n",
      " 9   hour_bef_pm2.5          679 non-null    float64\n",
      "dtypes: float64(8), int64(2)\n",
      "memory usage: 56.0 KB\n"
     ]
    },
    {
     "data": {
      "text/plain": [
       "(None, None)"
      ]
     },
     "execution_count": 38,
     "metadata": {},
     "output_type": "execute_result"
    }
   ],
   "source": [
    "#DataFrame 객체의 info() 매서드를 사용해서 train 과 test 의 데이터 타입을 확인\n",
    "train.info(),test.info()"
   ]
  },
  {
   "cell_type": "code",
   "execution_count": 39,
   "id": "22a67b8a",
   "metadata": {},
   "outputs": [],
   "source": [
    "train=train.dropna()\n",
    "test=test.fillna(0)"
   ]
  },
  {
   "cell_type": "code",
   "execution_count": 40,
   "id": "767a65cf",
   "metadata": {},
   "outputs": [],
   "source": [
    "#의사결정나무: 어떤 기준으로 모든 행들을 두개의 노드로 분류\n",
    "#목적 : 한쪽 방향으로 쏠리도록 해주는 특정값 찾기, 불순도를 계산\n",
    "#scikit-learn 으로부터 의사결정나무 모듈을 불러오기\n",
    "import sklearn\n",
    "from sklearn.tree import DecisionTreeRegressor\n",
    "model=DecisionTreeRegressor"
   ]
  },
  {
   "cell_type": "code",
   "execution_count": 41,
   "id": "24cb6644",
   "metadata": {},
   "outputs": [],
   "source": [
    "# train 데이터중 예측해야할 count 피쳐를 drop()함수를 사용하고, axis=1 옵션을 사용해 해당 열을 제외한 데이터들을 X_train 이라는 이름의 DataFrame 객체로 만들고\n",
    "#count 피쳐만을 데이터로 갖는 Y_train 이라는 이름의 DataFrame 객체로 만드는 코드\n",
    "X_train = train.drop(['count'], axis=1)\n",
    "Y_train = train['count']"
   ]
  },
  {
   "cell_type": "code",
   "execution_count": 42,
   "id": "29cb5b24",
   "metadata": {},
   "outputs": [
    {
     "data": {
      "text/plain": [
       "DecisionTreeRegressor()"
      ]
     },
     "execution_count": 42,
     "metadata": {},
     "output_type": "execute_result"
    }
   ],
   "source": [
    "#model 변수명으로 모델을 선언하고\n",
    "model = DecisionTreeRegressor()\n",
    "#fit() 함수를 사용해서, X_train 을 input 으로 삼고, Y_train 을 output 으로 삼아 모델을 훈련\n",
    "model.fit(X_train, Y_train)"
   ]
  },
  {
   "cell_type": "code",
   "execution_count": 43,
   "id": "7c4240e1",
   "metadata": {},
   "outputs": [
    {
     "data": {
      "text/plain": [
       "array([106., 164., 121.,  49.,  64.])"
      ]
     },
     "execution_count": 43,
     "metadata": {},
     "output_type": "execute_result"
    }
   ],
   "source": [
    "# predict()를 이용해 test data 를 훈련된 모델로 예측한 data 를 생성하고 예측결과 상위 5개를 출력\n",
    "pred=model.predict(test)\n",
    "pred[:5]"
   ]
  },
  {
   "cell_type": "code",
   "execution_count": 44,
   "id": "87dc87b8",
   "metadata": {},
   "outputs": [],
   "source": [
    "#submission.csv 파일을 read_csv() 를 이용해 df 클래스로 불러오기\n",
    "#submission df 파일의 count 피쳐를 예측결과로 할당\n",
    "#submission df 파일을 to_csv() 를 이용해 csv 파일로 내보내기. 여기서 index 옵션은 False 로 지정해주어야 정답 형식과 맞아 떨어져 헤더 오류가 나지 않습니다.\n",
    "\n",
    "submission = pd.read_csv('c:/data/submission.csv')\n",
    "submission['count'] = pred\n",
    "submission.to_csv('pra.csv',index=False)"
   ]
  },
  {
   "cell_type": "code",
   "execution_count": null,
   "id": "6f89af3b",
   "metadata": {},
   "outputs": [],
   "source": []
  }
 ],
 "metadata": {
  "kernelspec": {
   "display_name": "Python 3 (ipykernel)",
   "language": "python",
   "name": "python3"
  },
  "language_info": {
   "codemirror_mode": {
    "name": "ipython",
    "version": 3
   },
   "file_extension": ".py",
   "mimetype": "text/x-python",
   "name": "python",
   "nbconvert_exporter": "python",
   "pygments_lexer": "ipython3",
   "version": "3.9.12"
  }
 },
 "nbformat": 4,
 "nbformat_minor": 5
}
