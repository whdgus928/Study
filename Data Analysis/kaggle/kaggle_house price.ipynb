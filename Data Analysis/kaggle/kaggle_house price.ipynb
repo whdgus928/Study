{
 "cells": [
  {
   "cell_type": "markdown",
   "id": "77314a62",
   "metadata": {},
   "source": [
    "# 주택 가격 예측\n",
    "- 데이터: 주택별 건축 연도, 설비, 넓이 등 설명 변수 79개와 목적변수인 주택 가격\n",
    "- 예측 정확도 평가: 평균 제곱 오차(RMSE)\n",
    "- 연속적인 값을 예측하는 회귀 분석 사용\n",
    "\n",
    "분류: 클래스 두 개 혹은 여러개로 분류<br>\n",
    "회귀: 연속된 값을 예측\n",
    "\n",
    "값에 로그를 취해서 차이를 작게 만들어 특정 데이터가 평가에 영향을 미치는 정도를 줄인다. "
   ]
  },
  {
   "cell_type": "markdown",
   "id": "2c1132be",
   "metadata": {},
   "source": [
    "## 1. 데이터 분석 준비\n",
    "https://www.kaggle.com/competitions/house-prices-advanced-regression-techniques\n",
    "\n",
    "#### 디렉터리 구성\n",
    "C:\\kaggle\\house-prices\\data"
   ]
  },
  {
   "cell_type": "code",
   "execution_count": 1,
   "id": "95ea137a",
   "metadata": {},
   "outputs": [],
   "source": [
    "%matplotlib inline\n",
    "import matplotlib.pyplot as plt\n",
    "import seaborn as sns\n",
    "import pandas as pd\n",
    "import numpy as np\n",
    "\n",
    "plt.style.use('ggplot')"
   ]
  },
  {
   "cell_type": "code",
   "execution_count": 2,
   "id": "cab48e95",
   "metadata": {},
   "outputs": [],
   "source": [
    "import random\n",
    "np.random.seed(1234)\n",
    "random.seed(1234)"
   ]
  },
  {
   "cell_type": "code",
   "execution_count": 3,
   "id": "8f3ce3d7",
   "metadata": {},
   "outputs": [],
   "source": [
    "train_df=pd.read_csv('C:/kaggle/house-prices/data/train.csv')\n",
    "test_df=pd.read_csv('C:/kaggle/house-prices/data/test.csv')\n",
    "submission=pd.read_csv('C:/kaggle/house-prices/data/sample_submission.csv')"
   ]
  },
  {
   "cell_type": "code",
   "execution_count": 4,
   "id": "14360827",
   "metadata": {},
   "outputs": [
    {
     "data": {
      "text/html": [
       "<div>\n",
       "<style scoped>\n",
       "    .dataframe tbody tr th:only-of-type {\n",
       "        vertical-align: middle;\n",
       "    }\n",
       "\n",
       "    .dataframe tbody tr th {\n",
       "        vertical-align: top;\n",
       "    }\n",
       "\n",
       "    .dataframe thead th {\n",
       "        text-align: right;\n",
       "    }\n",
       "</style>\n",
       "<table border=\"1\" class=\"dataframe\">\n",
       "  <thead>\n",
       "    <tr style=\"text-align: right;\">\n",
       "      <th></th>\n",
       "      <th>Id</th>\n",
       "      <th>MSSubClass</th>\n",
       "      <th>MSZoning</th>\n",
       "      <th>LotFrontage</th>\n",
       "      <th>LotArea</th>\n",
       "      <th>Street</th>\n",
       "      <th>Alley</th>\n",
       "      <th>LotShape</th>\n",
       "      <th>LandContour</th>\n",
       "      <th>Utilities</th>\n",
       "      <th>...</th>\n",
       "      <th>PoolArea</th>\n",
       "      <th>PoolQC</th>\n",
       "      <th>Fence</th>\n",
       "      <th>MiscFeature</th>\n",
       "      <th>MiscVal</th>\n",
       "      <th>MoSold</th>\n",
       "      <th>YrSold</th>\n",
       "      <th>SaleType</th>\n",
       "      <th>SaleCondition</th>\n",
       "      <th>SalePrice</th>\n",
       "    </tr>\n",
       "  </thead>\n",
       "  <tbody>\n",
       "    <tr>\n",
       "      <th>0</th>\n",
       "      <td>1</td>\n",
       "      <td>60</td>\n",
       "      <td>RL</td>\n",
       "      <td>65.0</td>\n",
       "      <td>8450</td>\n",
       "      <td>Pave</td>\n",
       "      <td>NaN</td>\n",
       "      <td>Reg</td>\n",
       "      <td>Lvl</td>\n",
       "      <td>AllPub</td>\n",
       "      <td>...</td>\n",
       "      <td>0</td>\n",
       "      <td>NaN</td>\n",
       "      <td>NaN</td>\n",
       "      <td>NaN</td>\n",
       "      <td>0</td>\n",
       "      <td>2</td>\n",
       "      <td>2008</td>\n",
       "      <td>WD</td>\n",
       "      <td>Normal</td>\n",
       "      <td>208500</td>\n",
       "    </tr>\n",
       "    <tr>\n",
       "      <th>1</th>\n",
       "      <td>2</td>\n",
       "      <td>20</td>\n",
       "      <td>RL</td>\n",
       "      <td>80.0</td>\n",
       "      <td>9600</td>\n",
       "      <td>Pave</td>\n",
       "      <td>NaN</td>\n",
       "      <td>Reg</td>\n",
       "      <td>Lvl</td>\n",
       "      <td>AllPub</td>\n",
       "      <td>...</td>\n",
       "      <td>0</td>\n",
       "      <td>NaN</td>\n",
       "      <td>NaN</td>\n",
       "      <td>NaN</td>\n",
       "      <td>0</td>\n",
       "      <td>5</td>\n",
       "      <td>2007</td>\n",
       "      <td>WD</td>\n",
       "      <td>Normal</td>\n",
       "      <td>181500</td>\n",
       "    </tr>\n",
       "    <tr>\n",
       "      <th>2</th>\n",
       "      <td>3</td>\n",
       "      <td>60</td>\n",
       "      <td>RL</td>\n",
       "      <td>68.0</td>\n",
       "      <td>11250</td>\n",
       "      <td>Pave</td>\n",
       "      <td>NaN</td>\n",
       "      <td>IR1</td>\n",
       "      <td>Lvl</td>\n",
       "      <td>AllPub</td>\n",
       "      <td>...</td>\n",
       "      <td>0</td>\n",
       "      <td>NaN</td>\n",
       "      <td>NaN</td>\n",
       "      <td>NaN</td>\n",
       "      <td>0</td>\n",
       "      <td>9</td>\n",
       "      <td>2008</td>\n",
       "      <td>WD</td>\n",
       "      <td>Normal</td>\n",
       "      <td>223500</td>\n",
       "    </tr>\n",
       "    <tr>\n",
       "      <th>3</th>\n",
       "      <td>4</td>\n",
       "      <td>70</td>\n",
       "      <td>RL</td>\n",
       "      <td>60.0</td>\n",
       "      <td>9550</td>\n",
       "      <td>Pave</td>\n",
       "      <td>NaN</td>\n",
       "      <td>IR1</td>\n",
       "      <td>Lvl</td>\n",
       "      <td>AllPub</td>\n",
       "      <td>...</td>\n",
       "      <td>0</td>\n",
       "      <td>NaN</td>\n",
       "      <td>NaN</td>\n",
       "      <td>NaN</td>\n",
       "      <td>0</td>\n",
       "      <td>2</td>\n",
       "      <td>2006</td>\n",
       "      <td>WD</td>\n",
       "      <td>Abnorml</td>\n",
       "      <td>140000</td>\n",
       "    </tr>\n",
       "    <tr>\n",
       "      <th>4</th>\n",
       "      <td>5</td>\n",
       "      <td>60</td>\n",
       "      <td>RL</td>\n",
       "      <td>84.0</td>\n",
       "      <td>14260</td>\n",
       "      <td>Pave</td>\n",
       "      <td>NaN</td>\n",
       "      <td>IR1</td>\n",
       "      <td>Lvl</td>\n",
       "      <td>AllPub</td>\n",
       "      <td>...</td>\n",
       "      <td>0</td>\n",
       "      <td>NaN</td>\n",
       "      <td>NaN</td>\n",
       "      <td>NaN</td>\n",
       "      <td>0</td>\n",
       "      <td>12</td>\n",
       "      <td>2008</td>\n",
       "      <td>WD</td>\n",
       "      <td>Normal</td>\n",
       "      <td>250000</td>\n",
       "    </tr>\n",
       "  </tbody>\n",
       "</table>\n",
       "<p>5 rows × 81 columns</p>\n",
       "</div>"
      ],
      "text/plain": [
       "   Id  MSSubClass MSZoning  LotFrontage  LotArea Street Alley LotShape  \\\n",
       "0   1          60       RL         65.0     8450   Pave   NaN      Reg   \n",
       "1   2          20       RL         80.0     9600   Pave   NaN      Reg   \n",
       "2   3          60       RL         68.0    11250   Pave   NaN      IR1   \n",
       "3   4          70       RL         60.0     9550   Pave   NaN      IR1   \n",
       "4   5          60       RL         84.0    14260   Pave   NaN      IR1   \n",
       "\n",
       "  LandContour Utilities  ... PoolArea PoolQC Fence MiscFeature MiscVal MoSold  \\\n",
       "0         Lvl    AllPub  ...        0    NaN   NaN         NaN       0      2   \n",
       "1         Lvl    AllPub  ...        0    NaN   NaN         NaN       0      5   \n",
       "2         Lvl    AllPub  ...        0    NaN   NaN         NaN       0      9   \n",
       "3         Lvl    AllPub  ...        0    NaN   NaN         NaN       0      2   \n",
       "4         Lvl    AllPub  ...        0    NaN   NaN         NaN       0     12   \n",
       "\n",
       "  YrSold  SaleType  SaleCondition  SalePrice  \n",
       "0   2008        WD         Normal     208500  \n",
       "1   2007        WD         Normal     181500  \n",
       "2   2008        WD         Normal     223500  \n",
       "3   2006        WD        Abnorml     140000  \n",
       "4   2008        WD         Normal     250000  \n",
       "\n",
       "[5 rows x 81 columns]"
      ]
     },
     "execution_count": 4,
     "metadata": {},
     "output_type": "execute_result"
    }
   ],
   "source": [
    "train_df.head()"
   ]
  },
  {
   "cell_type": "markdown",
   "id": "e92a8aac",
   "metadata": {},
   "source": [
    "## 2. 벤치마크용 베이스라인 작성\n",
    "#### 학습 데이터의 변수 유형 확인하기\n",
    "lightgbm에서 읽을 수 있는 것은 int, float, bool뿐이다 "
   ]
  },
  {
   "cell_type": "code",
   "execution_count": 5,
   "id": "cc803d8a",
   "metadata": {},
   "outputs": [
    {
     "data": {
      "text/plain": [
       "Id                 int64\n",
       "MSSubClass         int64\n",
       "MSZoning          object\n",
       "LotFrontage      float64\n",
       "LotArea            int64\n",
       "                  ...   \n",
       "MoSold             int64\n",
       "YrSold             int64\n",
       "SaleType          object\n",
       "SaleCondition     object\n",
       "SalePrice          int64\n",
       "Length: 81, dtype: object"
      ]
     },
     "execution_count": 5,
     "metadata": {},
     "output_type": "execute_result"
    }
   ],
   "source": [
    "train_df.dtypes"
   ]
  },
  {
   "cell_type": "code",
   "execution_count": 6,
   "id": "10c23c64",
   "metadata": {},
   "outputs": [
    {
     "data": {
      "text/plain": [
       "RL         1151\n",
       "RM          218\n",
       "FV           65\n",
       "RH           16\n",
       "C (all)      10\n",
       "Name: MSZoning, dtype: int64"
      ]
     },
     "execution_count": 6,
     "metadata": {},
     "output_type": "execute_result"
    }
   ],
   "source": [
    "train_df['MSZoning'].value_counts()"
   ]
  },
  {
   "cell_type": "markdown",
   "id": "a8aa187e",
   "metadata": {},
   "source": [
    "#### 학습 데이터와 테스트 데이터를 합해서 전처리하기\n",
    "예측을 실행할 때는 SalePrice 값 유무를 사용해서 학습 데이터와 테스트 데이터로 분할한다."
   ]
  },
  {
   "cell_type": "code",
   "execution_count": 7,
   "id": "df884fed",
   "metadata": {},
   "outputs": [
    {
     "data": {
      "text/html": [
       "<div>\n",
       "<style scoped>\n",
       "    .dataframe tbody tr th:only-of-type {\n",
       "        vertical-align: middle;\n",
       "    }\n",
       "\n",
       "    .dataframe tbody tr th {\n",
       "        vertical-align: top;\n",
       "    }\n",
       "\n",
       "    .dataframe thead th {\n",
       "        text-align: right;\n",
       "    }\n",
       "</style>\n",
       "<table border=\"1\" class=\"dataframe\">\n",
       "  <thead>\n",
       "    <tr style=\"text-align: right;\">\n",
       "      <th></th>\n",
       "      <th>Id</th>\n",
       "      <th>MSSubClass</th>\n",
       "      <th>MSZoning</th>\n",
       "      <th>LotFrontage</th>\n",
       "      <th>LotArea</th>\n",
       "      <th>Street</th>\n",
       "      <th>Alley</th>\n",
       "      <th>LotShape</th>\n",
       "      <th>LandContour</th>\n",
       "      <th>Utilities</th>\n",
       "      <th>...</th>\n",
       "      <th>PoolArea</th>\n",
       "      <th>PoolQC</th>\n",
       "      <th>Fence</th>\n",
       "      <th>MiscFeature</th>\n",
       "      <th>MiscVal</th>\n",
       "      <th>MoSold</th>\n",
       "      <th>YrSold</th>\n",
       "      <th>SaleType</th>\n",
       "      <th>SaleCondition</th>\n",
       "      <th>SalePrice</th>\n",
       "    </tr>\n",
       "  </thead>\n",
       "  <tbody>\n",
       "    <tr>\n",
       "      <th>0</th>\n",
       "      <td>1</td>\n",
       "      <td>60</td>\n",
       "      <td>RL</td>\n",
       "      <td>65.0</td>\n",
       "      <td>8450</td>\n",
       "      <td>Pave</td>\n",
       "      <td>NaN</td>\n",
       "      <td>Reg</td>\n",
       "      <td>Lvl</td>\n",
       "      <td>AllPub</td>\n",
       "      <td>...</td>\n",
       "      <td>0</td>\n",
       "      <td>NaN</td>\n",
       "      <td>NaN</td>\n",
       "      <td>NaN</td>\n",
       "      <td>0</td>\n",
       "      <td>2</td>\n",
       "      <td>2008</td>\n",
       "      <td>WD</td>\n",
       "      <td>Normal</td>\n",
       "      <td>208500.0</td>\n",
       "    </tr>\n",
       "    <tr>\n",
       "      <th>1</th>\n",
       "      <td>2</td>\n",
       "      <td>20</td>\n",
       "      <td>RL</td>\n",
       "      <td>80.0</td>\n",
       "      <td>9600</td>\n",
       "      <td>Pave</td>\n",
       "      <td>NaN</td>\n",
       "      <td>Reg</td>\n",
       "      <td>Lvl</td>\n",
       "      <td>AllPub</td>\n",
       "      <td>...</td>\n",
       "      <td>0</td>\n",
       "      <td>NaN</td>\n",
       "      <td>NaN</td>\n",
       "      <td>NaN</td>\n",
       "      <td>0</td>\n",
       "      <td>5</td>\n",
       "      <td>2007</td>\n",
       "      <td>WD</td>\n",
       "      <td>Normal</td>\n",
       "      <td>181500.0</td>\n",
       "    </tr>\n",
       "    <tr>\n",
       "      <th>2</th>\n",
       "      <td>3</td>\n",
       "      <td>60</td>\n",
       "      <td>RL</td>\n",
       "      <td>68.0</td>\n",
       "      <td>11250</td>\n",
       "      <td>Pave</td>\n",
       "      <td>NaN</td>\n",
       "      <td>IR1</td>\n",
       "      <td>Lvl</td>\n",
       "      <td>AllPub</td>\n",
       "      <td>...</td>\n",
       "      <td>0</td>\n",
       "      <td>NaN</td>\n",
       "      <td>NaN</td>\n",
       "      <td>NaN</td>\n",
       "      <td>0</td>\n",
       "      <td>9</td>\n",
       "      <td>2008</td>\n",
       "      <td>WD</td>\n",
       "      <td>Normal</td>\n",
       "      <td>223500.0</td>\n",
       "    </tr>\n",
       "    <tr>\n",
       "      <th>3</th>\n",
       "      <td>4</td>\n",
       "      <td>70</td>\n",
       "      <td>RL</td>\n",
       "      <td>60.0</td>\n",
       "      <td>9550</td>\n",
       "      <td>Pave</td>\n",
       "      <td>NaN</td>\n",
       "      <td>IR1</td>\n",
       "      <td>Lvl</td>\n",
       "      <td>AllPub</td>\n",
       "      <td>...</td>\n",
       "      <td>0</td>\n",
       "      <td>NaN</td>\n",
       "      <td>NaN</td>\n",
       "      <td>NaN</td>\n",
       "      <td>0</td>\n",
       "      <td>2</td>\n",
       "      <td>2006</td>\n",
       "      <td>WD</td>\n",
       "      <td>Abnorml</td>\n",
       "      <td>140000.0</td>\n",
       "    </tr>\n",
       "    <tr>\n",
       "      <th>4</th>\n",
       "      <td>5</td>\n",
       "      <td>60</td>\n",
       "      <td>RL</td>\n",
       "      <td>84.0</td>\n",
       "      <td>14260</td>\n",
       "      <td>Pave</td>\n",
       "      <td>NaN</td>\n",
       "      <td>IR1</td>\n",
       "      <td>Lvl</td>\n",
       "      <td>AllPub</td>\n",
       "      <td>...</td>\n",
       "      <td>0</td>\n",
       "      <td>NaN</td>\n",
       "      <td>NaN</td>\n",
       "      <td>NaN</td>\n",
       "      <td>0</td>\n",
       "      <td>12</td>\n",
       "      <td>2008</td>\n",
       "      <td>WD</td>\n",
       "      <td>Normal</td>\n",
       "      <td>250000.0</td>\n",
       "    </tr>\n",
       "    <tr>\n",
       "      <th>...</th>\n",
       "      <td>...</td>\n",
       "      <td>...</td>\n",
       "      <td>...</td>\n",
       "      <td>...</td>\n",
       "      <td>...</td>\n",
       "      <td>...</td>\n",
       "      <td>...</td>\n",
       "      <td>...</td>\n",
       "      <td>...</td>\n",
       "      <td>...</td>\n",
       "      <td>...</td>\n",
       "      <td>...</td>\n",
       "      <td>...</td>\n",
       "      <td>...</td>\n",
       "      <td>...</td>\n",
       "      <td>...</td>\n",
       "      <td>...</td>\n",
       "      <td>...</td>\n",
       "      <td>...</td>\n",
       "      <td>...</td>\n",
       "      <td>...</td>\n",
       "    </tr>\n",
       "    <tr>\n",
       "      <th>2914</th>\n",
       "      <td>2915</td>\n",
       "      <td>160</td>\n",
       "      <td>RM</td>\n",
       "      <td>21.0</td>\n",
       "      <td>1936</td>\n",
       "      <td>Pave</td>\n",
       "      <td>NaN</td>\n",
       "      <td>Reg</td>\n",
       "      <td>Lvl</td>\n",
       "      <td>AllPub</td>\n",
       "      <td>...</td>\n",
       "      <td>0</td>\n",
       "      <td>NaN</td>\n",
       "      <td>NaN</td>\n",
       "      <td>NaN</td>\n",
       "      <td>0</td>\n",
       "      <td>6</td>\n",
       "      <td>2006</td>\n",
       "      <td>WD</td>\n",
       "      <td>Normal</td>\n",
       "      <td>NaN</td>\n",
       "    </tr>\n",
       "    <tr>\n",
       "      <th>2915</th>\n",
       "      <td>2916</td>\n",
       "      <td>160</td>\n",
       "      <td>RM</td>\n",
       "      <td>21.0</td>\n",
       "      <td>1894</td>\n",
       "      <td>Pave</td>\n",
       "      <td>NaN</td>\n",
       "      <td>Reg</td>\n",
       "      <td>Lvl</td>\n",
       "      <td>AllPub</td>\n",
       "      <td>...</td>\n",
       "      <td>0</td>\n",
       "      <td>NaN</td>\n",
       "      <td>NaN</td>\n",
       "      <td>NaN</td>\n",
       "      <td>0</td>\n",
       "      <td>4</td>\n",
       "      <td>2006</td>\n",
       "      <td>WD</td>\n",
       "      <td>Abnorml</td>\n",
       "      <td>NaN</td>\n",
       "    </tr>\n",
       "    <tr>\n",
       "      <th>2916</th>\n",
       "      <td>2917</td>\n",
       "      <td>20</td>\n",
       "      <td>RL</td>\n",
       "      <td>160.0</td>\n",
       "      <td>20000</td>\n",
       "      <td>Pave</td>\n",
       "      <td>NaN</td>\n",
       "      <td>Reg</td>\n",
       "      <td>Lvl</td>\n",
       "      <td>AllPub</td>\n",
       "      <td>...</td>\n",
       "      <td>0</td>\n",
       "      <td>NaN</td>\n",
       "      <td>NaN</td>\n",
       "      <td>NaN</td>\n",
       "      <td>0</td>\n",
       "      <td>9</td>\n",
       "      <td>2006</td>\n",
       "      <td>WD</td>\n",
       "      <td>Abnorml</td>\n",
       "      <td>NaN</td>\n",
       "    </tr>\n",
       "    <tr>\n",
       "      <th>2917</th>\n",
       "      <td>2918</td>\n",
       "      <td>85</td>\n",
       "      <td>RL</td>\n",
       "      <td>62.0</td>\n",
       "      <td>10441</td>\n",
       "      <td>Pave</td>\n",
       "      <td>NaN</td>\n",
       "      <td>Reg</td>\n",
       "      <td>Lvl</td>\n",
       "      <td>AllPub</td>\n",
       "      <td>...</td>\n",
       "      <td>0</td>\n",
       "      <td>NaN</td>\n",
       "      <td>MnPrv</td>\n",
       "      <td>Shed</td>\n",
       "      <td>700</td>\n",
       "      <td>7</td>\n",
       "      <td>2006</td>\n",
       "      <td>WD</td>\n",
       "      <td>Normal</td>\n",
       "      <td>NaN</td>\n",
       "    </tr>\n",
       "    <tr>\n",
       "      <th>2918</th>\n",
       "      <td>2919</td>\n",
       "      <td>60</td>\n",
       "      <td>RL</td>\n",
       "      <td>74.0</td>\n",
       "      <td>9627</td>\n",
       "      <td>Pave</td>\n",
       "      <td>NaN</td>\n",
       "      <td>Reg</td>\n",
       "      <td>Lvl</td>\n",
       "      <td>AllPub</td>\n",
       "      <td>...</td>\n",
       "      <td>0</td>\n",
       "      <td>NaN</td>\n",
       "      <td>NaN</td>\n",
       "      <td>NaN</td>\n",
       "      <td>0</td>\n",
       "      <td>11</td>\n",
       "      <td>2006</td>\n",
       "      <td>WD</td>\n",
       "      <td>Normal</td>\n",
       "      <td>NaN</td>\n",
       "    </tr>\n",
       "  </tbody>\n",
       "</table>\n",
       "<p>2919 rows × 81 columns</p>\n",
       "</div>"
      ],
      "text/plain": [
       "        Id  MSSubClass MSZoning  LotFrontage  LotArea Street Alley LotShape  \\\n",
       "0        1          60       RL         65.0     8450   Pave   NaN      Reg   \n",
       "1        2          20       RL         80.0     9600   Pave   NaN      Reg   \n",
       "2        3          60       RL         68.0    11250   Pave   NaN      IR1   \n",
       "3        4          70       RL         60.0     9550   Pave   NaN      IR1   \n",
       "4        5          60       RL         84.0    14260   Pave   NaN      IR1   \n",
       "...    ...         ...      ...          ...      ...    ...   ...      ...   \n",
       "2914  2915         160       RM         21.0     1936   Pave   NaN      Reg   \n",
       "2915  2916         160       RM         21.0     1894   Pave   NaN      Reg   \n",
       "2916  2917          20       RL        160.0    20000   Pave   NaN      Reg   \n",
       "2917  2918          85       RL         62.0    10441   Pave   NaN      Reg   \n",
       "2918  2919          60       RL         74.0     9627   Pave   NaN      Reg   \n",
       "\n",
       "     LandContour Utilities  ... PoolArea PoolQC  Fence MiscFeature MiscVal  \\\n",
       "0            Lvl    AllPub  ...        0    NaN    NaN         NaN       0   \n",
       "1            Lvl    AllPub  ...        0    NaN    NaN         NaN       0   \n",
       "2            Lvl    AllPub  ...        0    NaN    NaN         NaN       0   \n",
       "3            Lvl    AllPub  ...        0    NaN    NaN         NaN       0   \n",
       "4            Lvl    AllPub  ...        0    NaN    NaN         NaN       0   \n",
       "...          ...       ...  ...      ...    ...    ...         ...     ...   \n",
       "2914         Lvl    AllPub  ...        0    NaN    NaN         NaN       0   \n",
       "2915         Lvl    AllPub  ...        0    NaN    NaN         NaN       0   \n",
       "2916         Lvl    AllPub  ...        0    NaN    NaN         NaN       0   \n",
       "2917         Lvl    AllPub  ...        0    NaN  MnPrv        Shed     700   \n",
       "2918         Lvl    AllPub  ...        0    NaN    NaN         NaN       0   \n",
       "\n",
       "     MoSold YrSold  SaleType  SaleCondition  SalePrice  \n",
       "0         2   2008        WD         Normal   208500.0  \n",
       "1         5   2007        WD         Normal   181500.0  \n",
       "2         9   2008        WD         Normal   223500.0  \n",
       "3         2   2006        WD        Abnorml   140000.0  \n",
       "4        12   2008        WD         Normal   250000.0  \n",
       "...     ...    ...       ...            ...        ...  \n",
       "2914      6   2006        WD         Normal        NaN  \n",
       "2915      4   2006        WD        Abnorml        NaN  \n",
       "2916      9   2006        WD        Abnorml        NaN  \n",
       "2917      7   2006        WD         Normal        NaN  \n",
       "2918     11   2006        WD         Normal        NaN  \n",
       "\n",
       "[2919 rows x 81 columns]"
      ]
     },
     "execution_count": 7,
     "metadata": {},
     "output_type": "execute_result"
    }
   ],
   "source": [
    "#합칠때 인덱스 새로 매기기\n",
    "all_df=pd.concat([train_df,test_df],sort=False).reset_index(drop=True)\n",
    "all_df\n"
   ]
  },
  {
   "cell_type": "code",
   "execution_count": 8,
   "id": "1a718b4b",
   "metadata": {},
   "outputs": [
    {
     "data": {
      "text/plain": [
       "0       208500.0\n",
       "1       181500.0\n",
       "2       223500.0\n",
       "3       140000.0\n",
       "4       250000.0\n",
       "          ...   \n",
       "2914         NaN\n",
       "2915         NaN\n",
       "2916         NaN\n",
       "2917         NaN\n",
       "2918         NaN\n",
       "Name: SalePrice, Length: 2919, dtype: float64"
      ]
     },
     "execution_count": 8,
     "metadata": {},
     "output_type": "execute_result"
    }
   ],
   "source": [
    "all_df['SalePrice']"
   ]
  },
  {
   "cell_type": "markdown",
   "id": "a436ad4f",
   "metadata": {},
   "source": [
    "#### 카테고리 변수를 수치로 변환하기"
   ]
  },
  {
   "cell_type": "code",
   "execution_count": 9,
   "id": "33a2ff6b",
   "metadata": {},
   "outputs": [
    {
     "name": "stdout",
     "output_type": "stream",
     "text": [
      "Index(['MSZoning', 'Street', 'Alley', 'LotShape', 'LandContour', 'Utilities',\n",
      "       'LotConfig', 'LandSlope', 'Neighborhood', 'Condition1', 'Condition2',\n",
      "       'BldgType', 'HouseStyle', 'RoofStyle', 'RoofMatl', 'Exterior1st',\n",
      "       'Exterior2nd', 'MasVnrType', 'ExterQual', 'ExterCond', 'Foundation',\n",
      "       'BsmtQual', 'BsmtCond', 'BsmtExposure', 'BsmtFinType1', 'BsmtFinType2',\n",
      "       'Heating', 'HeatingQC', 'CentralAir', 'Electrical', 'KitchenQual',\n",
      "       'Functional', 'FireplaceQu', 'GarageType', 'GarageFinish', 'GarageQual',\n",
      "       'GarageCond', 'PavedDrive', 'PoolQC', 'Fence', 'MiscFeature',\n",
      "       'SaleType', 'SaleCondition'],\n",
      "      dtype='object')\n"
     ]
    }
   ],
   "source": [
    "from sklearn.preprocessing import LabelEncoder\n",
    "categories=all_df.columns[all_df.dtypes=='object']\n",
    "print(categories)"
   ]
  },
  {
   "cell_type": "code",
   "execution_count": 10,
   "id": "49e54618",
   "metadata": {},
   "outputs": [
    {
     "data": {
      "text/plain": [
       "Grvl    120\n",
       "Pave     78\n",
       "Name: Alley, dtype: int64"
      ]
     },
     "execution_count": 10,
     "metadata": {},
     "output_type": "execute_result"
    }
   ],
   "source": [
    "all_df['Alley'].value_counts()"
   ]
  },
  {
   "cell_type": "markdown",
   "id": "a595fcb5",
   "metadata": {},
   "source": [
    "#### 결측치를 수치로 변환하기"
   ]
  },
  {
   "cell_type": "code",
   "execution_count": 11,
   "id": "70404105",
   "metadata": {},
   "outputs": [
    {
     "name": "stdout",
     "output_type": "stream",
     "text": [
      "MSZoning\n",
      "Street\n",
      "Alley\n",
      "LotShape\n",
      "LandContour\n",
      "Utilities\n",
      "LotConfig\n",
      "LandSlope\n",
      "Neighborhood\n",
      "Condition1\n",
      "Condition2\n",
      "BldgType\n",
      "HouseStyle\n",
      "RoofStyle\n",
      "RoofMatl\n",
      "Exterior1st\n",
      "Exterior2nd\n",
      "MasVnrType\n",
      "ExterQual\n",
      "ExterCond\n",
      "Foundation\n",
      "BsmtQual\n",
      "BsmtCond\n",
      "BsmtExposure\n",
      "BsmtFinType1\n",
      "BsmtFinType2\n",
      "Heating\n",
      "HeatingQC\n",
      "CentralAir\n",
      "Electrical\n",
      "KitchenQual\n",
      "Functional\n",
      "FireplaceQu\n",
      "GarageType\n",
      "GarageFinish\n",
      "GarageQual\n",
      "GarageCond\n",
      "PavedDrive\n",
      "PoolQC\n",
      "Fence\n",
      "MiscFeature\n",
      "SaleType\n",
      "SaleCondition\n"
     ]
    }
   ],
   "source": [
    "for cat in categories:\n",
    "    #수치로 변환\n",
    "    le=LabelEncoder()\n",
    "    print(cat)\n",
    "    \n",
    "    all_df[cat].fillna('missing',inplace=True)\n",
    "    le=le.fit(all_df[cat])\n",
    "    all_df[cat]=le.transform(all_df[cat])\n",
    "    #카테고리 변수임을 명시\n",
    "    all_df[cat]=all_df[cat].astype('category')"
   ]
  },
  {
   "cell_type": "code",
   "execution_count": 12,
   "id": "a2a0b9e6",
   "metadata": {},
   "outputs": [
    {
     "data": {
      "text/html": [
       "<div>\n",
       "<style scoped>\n",
       "    .dataframe tbody tr th:only-of-type {\n",
       "        vertical-align: middle;\n",
       "    }\n",
       "\n",
       "    .dataframe tbody tr th {\n",
       "        vertical-align: top;\n",
       "    }\n",
       "\n",
       "    .dataframe thead th {\n",
       "        text-align: right;\n",
       "    }\n",
       "</style>\n",
       "<table border=\"1\" class=\"dataframe\">\n",
       "  <thead>\n",
       "    <tr style=\"text-align: right;\">\n",
       "      <th></th>\n",
       "      <th>Id</th>\n",
       "      <th>MSSubClass</th>\n",
       "      <th>MSZoning</th>\n",
       "      <th>LotFrontage</th>\n",
       "      <th>LotArea</th>\n",
       "      <th>Street</th>\n",
       "      <th>Alley</th>\n",
       "      <th>LotShape</th>\n",
       "      <th>LandContour</th>\n",
       "      <th>Utilities</th>\n",
       "      <th>...</th>\n",
       "      <th>PoolArea</th>\n",
       "      <th>PoolQC</th>\n",
       "      <th>Fence</th>\n",
       "      <th>MiscFeature</th>\n",
       "      <th>MiscVal</th>\n",
       "      <th>MoSold</th>\n",
       "      <th>YrSold</th>\n",
       "      <th>SaleType</th>\n",
       "      <th>SaleCondition</th>\n",
       "      <th>SalePrice</th>\n",
       "    </tr>\n",
       "  </thead>\n",
       "  <tbody>\n",
       "    <tr>\n",
       "      <th>0</th>\n",
       "      <td>1</td>\n",
       "      <td>60</td>\n",
       "      <td>3</td>\n",
       "      <td>65.0</td>\n",
       "      <td>8450</td>\n",
       "      <td>1</td>\n",
       "      <td>2</td>\n",
       "      <td>3</td>\n",
       "      <td>3</td>\n",
       "      <td>0</td>\n",
       "      <td>...</td>\n",
       "      <td>0</td>\n",
       "      <td>3</td>\n",
       "      <td>4</td>\n",
       "      <td>4</td>\n",
       "      <td>0</td>\n",
       "      <td>2</td>\n",
       "      <td>2008</td>\n",
       "      <td>8</td>\n",
       "      <td>4</td>\n",
       "      <td>208500.0</td>\n",
       "    </tr>\n",
       "    <tr>\n",
       "      <th>1</th>\n",
       "      <td>2</td>\n",
       "      <td>20</td>\n",
       "      <td>3</td>\n",
       "      <td>80.0</td>\n",
       "      <td>9600</td>\n",
       "      <td>1</td>\n",
       "      <td>2</td>\n",
       "      <td>3</td>\n",
       "      <td>3</td>\n",
       "      <td>0</td>\n",
       "      <td>...</td>\n",
       "      <td>0</td>\n",
       "      <td>3</td>\n",
       "      <td>4</td>\n",
       "      <td>4</td>\n",
       "      <td>0</td>\n",
       "      <td>5</td>\n",
       "      <td>2007</td>\n",
       "      <td>8</td>\n",
       "      <td>4</td>\n",
       "      <td>181500.0</td>\n",
       "    </tr>\n",
       "    <tr>\n",
       "      <th>2</th>\n",
       "      <td>3</td>\n",
       "      <td>60</td>\n",
       "      <td>3</td>\n",
       "      <td>68.0</td>\n",
       "      <td>11250</td>\n",
       "      <td>1</td>\n",
       "      <td>2</td>\n",
       "      <td>0</td>\n",
       "      <td>3</td>\n",
       "      <td>0</td>\n",
       "      <td>...</td>\n",
       "      <td>0</td>\n",
       "      <td>3</td>\n",
       "      <td>4</td>\n",
       "      <td>4</td>\n",
       "      <td>0</td>\n",
       "      <td>9</td>\n",
       "      <td>2008</td>\n",
       "      <td>8</td>\n",
       "      <td>4</td>\n",
       "      <td>223500.0</td>\n",
       "    </tr>\n",
       "    <tr>\n",
       "      <th>3</th>\n",
       "      <td>4</td>\n",
       "      <td>70</td>\n",
       "      <td>3</td>\n",
       "      <td>60.0</td>\n",
       "      <td>9550</td>\n",
       "      <td>1</td>\n",
       "      <td>2</td>\n",
       "      <td>0</td>\n",
       "      <td>3</td>\n",
       "      <td>0</td>\n",
       "      <td>...</td>\n",
       "      <td>0</td>\n",
       "      <td>3</td>\n",
       "      <td>4</td>\n",
       "      <td>4</td>\n",
       "      <td>0</td>\n",
       "      <td>2</td>\n",
       "      <td>2006</td>\n",
       "      <td>8</td>\n",
       "      <td>0</td>\n",
       "      <td>140000.0</td>\n",
       "    </tr>\n",
       "    <tr>\n",
       "      <th>4</th>\n",
       "      <td>5</td>\n",
       "      <td>60</td>\n",
       "      <td>3</td>\n",
       "      <td>84.0</td>\n",
       "      <td>14260</td>\n",
       "      <td>1</td>\n",
       "      <td>2</td>\n",
       "      <td>0</td>\n",
       "      <td>3</td>\n",
       "      <td>0</td>\n",
       "      <td>...</td>\n",
       "      <td>0</td>\n",
       "      <td>3</td>\n",
       "      <td>4</td>\n",
       "      <td>4</td>\n",
       "      <td>0</td>\n",
       "      <td>12</td>\n",
       "      <td>2008</td>\n",
       "      <td>8</td>\n",
       "      <td>4</td>\n",
       "      <td>250000.0</td>\n",
       "    </tr>\n",
       "    <tr>\n",
       "      <th>...</th>\n",
       "      <td>...</td>\n",
       "      <td>...</td>\n",
       "      <td>...</td>\n",
       "      <td>...</td>\n",
       "      <td>...</td>\n",
       "      <td>...</td>\n",
       "      <td>...</td>\n",
       "      <td>...</td>\n",
       "      <td>...</td>\n",
       "      <td>...</td>\n",
       "      <td>...</td>\n",
       "      <td>...</td>\n",
       "      <td>...</td>\n",
       "      <td>...</td>\n",
       "      <td>...</td>\n",
       "      <td>...</td>\n",
       "      <td>...</td>\n",
       "      <td>...</td>\n",
       "      <td>...</td>\n",
       "      <td>...</td>\n",
       "      <td>...</td>\n",
       "    </tr>\n",
       "    <tr>\n",
       "      <th>2914</th>\n",
       "      <td>2915</td>\n",
       "      <td>160</td>\n",
       "      <td>4</td>\n",
       "      <td>21.0</td>\n",
       "      <td>1936</td>\n",
       "      <td>1</td>\n",
       "      <td>2</td>\n",
       "      <td>3</td>\n",
       "      <td>3</td>\n",
       "      <td>0</td>\n",
       "      <td>...</td>\n",
       "      <td>0</td>\n",
       "      <td>3</td>\n",
       "      <td>4</td>\n",
       "      <td>4</td>\n",
       "      <td>0</td>\n",
       "      <td>6</td>\n",
       "      <td>2006</td>\n",
       "      <td>8</td>\n",
       "      <td>4</td>\n",
       "      <td>NaN</td>\n",
       "    </tr>\n",
       "    <tr>\n",
       "      <th>2915</th>\n",
       "      <td>2916</td>\n",
       "      <td>160</td>\n",
       "      <td>4</td>\n",
       "      <td>21.0</td>\n",
       "      <td>1894</td>\n",
       "      <td>1</td>\n",
       "      <td>2</td>\n",
       "      <td>3</td>\n",
       "      <td>3</td>\n",
       "      <td>0</td>\n",
       "      <td>...</td>\n",
       "      <td>0</td>\n",
       "      <td>3</td>\n",
       "      <td>4</td>\n",
       "      <td>4</td>\n",
       "      <td>0</td>\n",
       "      <td>4</td>\n",
       "      <td>2006</td>\n",
       "      <td>8</td>\n",
       "      <td>0</td>\n",
       "      <td>NaN</td>\n",
       "    </tr>\n",
       "    <tr>\n",
       "      <th>2916</th>\n",
       "      <td>2917</td>\n",
       "      <td>20</td>\n",
       "      <td>3</td>\n",
       "      <td>160.0</td>\n",
       "      <td>20000</td>\n",
       "      <td>1</td>\n",
       "      <td>2</td>\n",
       "      <td>3</td>\n",
       "      <td>3</td>\n",
       "      <td>0</td>\n",
       "      <td>...</td>\n",
       "      <td>0</td>\n",
       "      <td>3</td>\n",
       "      <td>4</td>\n",
       "      <td>4</td>\n",
       "      <td>0</td>\n",
       "      <td>9</td>\n",
       "      <td>2006</td>\n",
       "      <td>8</td>\n",
       "      <td>0</td>\n",
       "      <td>NaN</td>\n",
       "    </tr>\n",
       "    <tr>\n",
       "      <th>2917</th>\n",
       "      <td>2918</td>\n",
       "      <td>85</td>\n",
       "      <td>3</td>\n",
       "      <td>62.0</td>\n",
       "      <td>10441</td>\n",
       "      <td>1</td>\n",
       "      <td>2</td>\n",
       "      <td>3</td>\n",
       "      <td>3</td>\n",
       "      <td>0</td>\n",
       "      <td>...</td>\n",
       "      <td>0</td>\n",
       "      <td>3</td>\n",
       "      <td>2</td>\n",
       "      <td>2</td>\n",
       "      <td>700</td>\n",
       "      <td>7</td>\n",
       "      <td>2006</td>\n",
       "      <td>8</td>\n",
       "      <td>4</td>\n",
       "      <td>NaN</td>\n",
       "    </tr>\n",
       "    <tr>\n",
       "      <th>2918</th>\n",
       "      <td>2919</td>\n",
       "      <td>60</td>\n",
       "      <td>3</td>\n",
       "      <td>74.0</td>\n",
       "      <td>9627</td>\n",
       "      <td>1</td>\n",
       "      <td>2</td>\n",
       "      <td>3</td>\n",
       "      <td>3</td>\n",
       "      <td>0</td>\n",
       "      <td>...</td>\n",
       "      <td>0</td>\n",
       "      <td>3</td>\n",
       "      <td>4</td>\n",
       "      <td>4</td>\n",
       "      <td>0</td>\n",
       "      <td>11</td>\n",
       "      <td>2006</td>\n",
       "      <td>8</td>\n",
       "      <td>4</td>\n",
       "      <td>NaN</td>\n",
       "    </tr>\n",
       "  </tbody>\n",
       "</table>\n",
       "<p>2919 rows × 81 columns</p>\n",
       "</div>"
      ],
      "text/plain": [
       "        Id  MSSubClass MSZoning  LotFrontage  LotArea Street Alley LotShape  \\\n",
       "0        1          60        3         65.0     8450      1     2        3   \n",
       "1        2          20        3         80.0     9600      1     2        3   \n",
       "2        3          60        3         68.0    11250      1     2        0   \n",
       "3        4          70        3         60.0     9550      1     2        0   \n",
       "4        5          60        3         84.0    14260      1     2        0   \n",
       "...    ...         ...      ...          ...      ...    ...   ...      ...   \n",
       "2914  2915         160        4         21.0     1936      1     2        3   \n",
       "2915  2916         160        4         21.0     1894      1     2        3   \n",
       "2916  2917          20        3        160.0    20000      1     2        3   \n",
       "2917  2918          85        3         62.0    10441      1     2        3   \n",
       "2918  2919          60        3         74.0     9627      1     2        3   \n",
       "\n",
       "     LandContour Utilities  ... PoolArea PoolQC Fence MiscFeature MiscVal  \\\n",
       "0              3         0  ...        0      3     4           4       0   \n",
       "1              3         0  ...        0      3     4           4       0   \n",
       "2              3         0  ...        0      3     4           4       0   \n",
       "3              3         0  ...        0      3     4           4       0   \n",
       "4              3         0  ...        0      3     4           4       0   \n",
       "...          ...       ...  ...      ...    ...   ...         ...     ...   \n",
       "2914           3         0  ...        0      3     4           4       0   \n",
       "2915           3         0  ...        0      3     4           4       0   \n",
       "2916           3         0  ...        0      3     4           4       0   \n",
       "2917           3         0  ...        0      3     2           2     700   \n",
       "2918           3         0  ...        0      3     4           4       0   \n",
       "\n",
       "     MoSold YrSold  SaleType  SaleCondition  SalePrice  \n",
       "0         2   2008         8              4   208500.0  \n",
       "1         5   2007         8              4   181500.0  \n",
       "2         9   2008         8              4   223500.0  \n",
       "3         2   2006         8              0   140000.0  \n",
       "4        12   2008         8              4   250000.0  \n",
       "...     ...    ...       ...            ...        ...  \n",
       "2914      6   2006         8              4        NaN  \n",
       "2915      4   2006         8              0        NaN  \n",
       "2916      9   2006         8              0        NaN  \n",
       "2917      7   2006         8              4        NaN  \n",
       "2918     11   2006         8              4        NaN  \n",
       "\n",
       "[2919 rows x 81 columns]"
      ]
     },
     "execution_count": 12,
     "metadata": {},
     "output_type": "execute_result"
    }
   ],
   "source": [
    "all_df"
   ]
  },
  {
   "cell_type": "markdown",
   "id": "aef1a3b0",
   "metadata": {},
   "source": [
    "#### train_df와 test_df로 되돌리기"
   ]
  },
  {
   "cell_type": "code",
   "execution_count": 13,
   "id": "9d95aee7",
   "metadata": {},
   "outputs": [],
   "source": [
    "train_df_le=all_df[~all_df['SalePrice'].isnull()]\n",
    "test_df_le=all_df[all_df['SalePrice'].isnull()]"
   ]
  },
  {
   "cell_type": "markdown",
   "id": "de5db161",
   "metadata": {},
   "source": [
    "#### LightGBM으로 데이터 읽기"
   ]
  },
  {
   "cell_type": "code",
   "execution_count": 14,
   "id": "d4bd057a",
   "metadata": {},
   "outputs": [],
   "source": [
    "import lightgbm as lgb"
   ]
  },
  {
   "cell_type": "code",
   "execution_count": 15,
   "id": "9d99e14b",
   "metadata": {},
   "outputs": [],
   "source": [
    "#교차검증\n",
    "from sklearn.model_selection import KFold\n",
    "folds=3\n",
    "kf=KFold(n_splits=folds)"
   ]
  },
  {
   "cell_type": "code",
   "execution_count": 16,
   "id": "a3516c19",
   "metadata": {},
   "outputs": [],
   "source": [
    "#하이퍼파라미터 설정\n",
    "lgbm_params={\n",
    "    'objective':'regression',\n",
    "    'random_seed':1234\n",
    "}"
   ]
  },
  {
   "cell_type": "code",
   "execution_count": 17,
   "id": "93d549a0",
   "metadata": {},
   "outputs": [],
   "source": [
    "train_X=train_df_le.drop(['SalePrice','Id'],axis=1)\n",
    "train_Y=train_df_le['SalePrice']"
   ]
  },
  {
   "cell_type": "code",
   "execution_count": 18,
   "id": "bfc4121d",
   "metadata": {},
   "outputs": [],
   "source": [
    "from sklearn.metrics import mean_squared_error"
   ]
  },
  {
   "cell_type": "code",
   "execution_count": 19,
   "id": "63ea2a23",
   "metadata": {},
   "outputs": [
    {
     "name": "stdout",
     "output_type": "stream",
     "text": [
      "      MSSubClass MSZoning  LotFrontage  LotArea Street Alley LotShape  \\\n",
      "487           20        3         70.0    12243      1     2        0   \n",
      "488          190        3         60.0    10800      1     2        3   \n",
      "489          180        4         21.0     1526      1     2        3   \n",
      "490          160        4          NaN     2665      1     2        3   \n",
      "491           50        3         79.0     9490      1     2        3   \n",
      "...          ...      ...          ...      ...    ...   ...      ...   \n",
      "1455          60        3         62.0     7917      1     2        3   \n",
      "1456          20        3         85.0    13175      1     2        3   \n",
      "1457          70        3         66.0     9042      1     2        3   \n",
      "1458          20        3         68.0     9717      1     2        3   \n",
      "1459          20        3         75.0     9937      1     2        3   \n",
      "\n",
      "     LandContour Utilities LotConfig  ... ScreenPorch PoolArea PoolQC Fence  \\\n",
      "487            3         0         4  ...         180        0      3     4   \n",
      "488            3         0         0  ...           0        0      3     4   \n",
      "489            3         0         4  ...           0        0      3     4   \n",
      "490            3         0         4  ...           0        0      3     4   \n",
      "491            3         0         4  ...           0        0      3     2   \n",
      "...          ...       ...       ...  ...         ...      ...    ...   ...   \n",
      "1455           3         0         4  ...           0        0      3     4   \n",
      "1456           3         0         4  ...           0        0      3     2   \n",
      "1457           3         0         4  ...           0        0      3     0   \n",
      "1458           3         0         4  ...           0        0      3     4   \n",
      "1459           3         0         4  ...           0        0      3     4   \n",
      "\n",
      "     MiscFeature MiscVal  MoSold  YrSold  SaleType  SaleCondition  \n",
      "487            4       0       2    2007         8              4  \n",
      "488            4       0       5    2006         3              4  \n",
      "489            4       0       5    2009         8              4  \n",
      "490            4       0       6    2008         8              4  \n",
      "491            4       0       8    2006         8              4  \n",
      "...          ...     ...     ...     ...       ...            ...  \n",
      "1455           4       0       8    2007         8              4  \n",
      "1456           4       0       2    2010         8              4  \n",
      "1457           2    2500       5    2010         8              4  \n",
      "1458           4       0       4    2010         8              4  \n",
      "1459           4       0       6    2008         8              4  \n",
      "\n",
      "[973 rows x 79 columns]\n",
      "Training until validation scores don't improve for 20 rounds\n",
      "[10]\tvalid_0's l2: 1.59541e+09\n",
      "[20]\tvalid_0's l2: 7.467e+08\n",
      "[30]\tvalid_0's l2: 5.96558e+08\n",
      "[40]\tvalid_0's l2: 5.49479e+08\n",
      "[50]\tvalid_0's l2: 5.29299e+08\n",
      "[60]\tvalid_0's l2: 5.28785e+08\n",
      "[70]\tvalid_0's l2: 5.32577e+08\n",
      "Early stopping, best iteration is:\n",
      "[57]\tvalid_0's l2: 5.26368e+08\n",
      "0.12637668452645173\n",
      "      MSSubClass MSZoning  LotFrontage  LotArea Street Alley LotShape  \\\n",
      "0             60        3         65.0     8450      1     2        3   \n",
      "1             20        3         80.0     9600      1     2        3   \n",
      "2             60        3         68.0    11250      1     2        0   \n",
      "3             70        3         60.0     9550      1     2        0   \n",
      "4             60        3         84.0    14260      1     2        0   \n",
      "...          ...      ...          ...      ...    ...   ...      ...   \n",
      "1455          60        3         62.0     7917      1     2        3   \n",
      "1456          20        3         85.0    13175      1     2        3   \n",
      "1457          70        3         66.0     9042      1     2        3   \n",
      "1458          20        3         68.0     9717      1     2        3   \n",
      "1459          20        3         75.0     9937      1     2        3   \n",
      "\n",
      "     LandContour Utilities LotConfig  ... ScreenPorch PoolArea PoolQC Fence  \\\n",
      "0              3         0         4  ...           0        0      3     4   \n",
      "1              3         0         2  ...           0        0      3     4   \n",
      "2              3         0         4  ...           0        0      3     4   \n",
      "3              3         0         0  ...           0        0      3     4   \n",
      "4              3         0         2  ...           0        0      3     4   \n",
      "...          ...       ...       ...  ...         ...      ...    ...   ...   \n",
      "1455           3         0         4  ...           0        0      3     4   \n",
      "1456           3         0         4  ...           0        0      3     2   \n",
      "1457           3         0         4  ...           0        0      3     0   \n",
      "1458           3         0         4  ...           0        0      3     4   \n",
      "1459           3         0         4  ...           0        0      3     4   \n",
      "\n",
      "     MiscFeature MiscVal  MoSold  YrSold  SaleType  SaleCondition  \n",
      "0              4       0       2    2008         8              4  \n",
      "1              4       0       5    2007         8              4  \n",
      "2              4       0       9    2008         8              4  \n",
      "3              4       0       2    2006         8              0  \n",
      "4              4       0      12    2008         8              4  \n",
      "...          ...     ...     ...     ...       ...            ...  \n",
      "1455           4       0       8    2007         8              4  \n",
      "1456           4       0       2    2010         8              4  \n",
      "1457           2    2500       5    2010         8              4  \n",
      "1458           4       0       4    2010         8              4  \n",
      "1459           4       0       6    2008         8              4  \n",
      "\n",
      "[973 rows x 79 columns]\n",
      "Training until validation scores don't improve for 20 rounds\n",
      "[10]\tvalid_0's l2: 2.08125e+09\n",
      "[20]\tvalid_0's l2: 1.23117e+09\n",
      "[30]\tvalid_0's l2: 1.04155e+09\n",
      "[40]\tvalid_0's l2: 9.92123e+08\n",
      "[50]\tvalid_0's l2: 9.69222e+08\n",
      "[60]\tvalid_0's l2: 9.54807e+08\n",
      "[70]\tvalid_0's l2: 9.50536e+08\n",
      "[80]\tvalid_0's l2: 9.45353e+08\n",
      "[90]\tvalid_0's l2: 9.40359e+08\n",
      "[100]\tvalid_0's l2: 9.36486e+08\n",
      "Did not meet early stopping. Best iteration is:\n",
      "[99]\tvalid_0's l2: 9.36066e+08\n",
      "0.15229205843857013\n",
      "     MSSubClass MSZoning  LotFrontage  LotArea Street Alley LotShape  \\\n",
      "0            60        3         65.0     8450      1     2        3   \n",
      "1            20        3         80.0     9600      1     2        3   \n",
      "2            60        3         68.0    11250      1     2        0   \n",
      "3            70        3         60.0     9550      1     2        0   \n",
      "4            60        3         84.0    14260      1     2        0   \n",
      "..          ...      ...          ...      ...    ...   ...      ...   \n",
      "969         190        3         75.0    10382      1     2        3   \n",
      "970          50        3         60.0    10800      1     2        3   \n",
      "971         160        3         36.0     2268      1     2        3   \n",
      "972         120        3         55.0     7892      1     2        3   \n",
      "973          20        1         95.0    11639      1     2        3   \n",
      "\n",
      "    LandContour Utilities LotConfig  ... ScreenPorch PoolArea PoolQC Fence  \\\n",
      "0             3         0         4  ...           0        0      3     4   \n",
      "1             3         0         2  ...           0        0      3     4   \n",
      "2             3         0         4  ...           0        0      3     4   \n",
      "3             3         0         0  ...           0        0      3     4   \n",
      "4             3         0         2  ...           0        0      3     4   \n",
      "..          ...       ...       ...  ...         ...      ...    ...   ...   \n",
      "969           3         0         4  ...           0        0      3     4   \n",
      "970           3         0         4  ...           0        0      3     4   \n",
      "971           3         0         4  ...           0        0      3     4   \n",
      "972           3         0         4  ...           0        0      3     4   \n",
      "973           3         0         0  ...           0        0      3     4   \n",
      "\n",
      "    MiscFeature MiscVal  MoSold  YrSold  SaleType  SaleCondition  \n",
      "0             4       0       2    2008         8              4  \n",
      "1             4       0       5    2007         8              4  \n",
      "2             4       0       9    2008         8              4  \n",
      "3             4       0       2    2006         8              0  \n",
      "4             4       0      12    2008         8              4  \n",
      "..          ...     ...     ...     ...       ...            ...  \n",
      "969           4       0       3    2006         3              4  \n",
      "970           4       0      12    2006         8              0  \n",
      "971           4       0       7    2009         8              4  \n",
      "972           4       0       4    2010         8              4  \n",
      "973           4       0      12    2008         6              5  \n",
      "\n",
      "[974 rows x 79 columns]\n",
      "Training until validation scores don't improve for 20 rounds\n",
      "[10]\tvalid_0's l2: 1.78839e+09\n",
      "[20]\tvalid_0's l2: 1.03494e+09\n",
      "[30]\tvalid_0's l2: 8.77181e+08\n",
      "[40]\tvalid_0's l2: 8.59747e+08\n",
      "[50]\tvalid_0's l2: 8.45919e+08\n",
      "[60]\tvalid_0's l2: 8.35019e+08\n",
      "[70]\tvalid_0's l2: 8.27851e+08\n",
      "[80]\tvalid_0's l2: 8.37089e+08\n",
      "Early stopping, best iteration is:\n",
      "[69]\tvalid_0's l2: 8.26998e+08\n",
      "0.13226664456356535\n"
     ]
    }
   ],
   "source": [
    "models = []\n",
    "rmses = []\n",
    "oof = np.zeros(len(train_X))\n",
    "\n",
    "for train_index, val_index in kf.split(train_X):\n",
    "    X_train = train_X.iloc[train_index]\n",
    "    X_valid = train_X.iloc[val_index]\n",
    "    y_train = train_Y.iloc[train_index]\n",
    "    y_valid = train_Y.iloc[val_index]\n",
    "    print(X_train)\n",
    "    lgb_train = lgb.Dataset(X_train, y_train)\n",
    "    lgb_eval = lgb.Dataset(X_valid, y_valid, reference=lgb_train)    \n",
    "    \n",
    "    model_lgb = lgb.train(lgbm_params, \n",
    "                          lgb_train, \n",
    "                          valid_sets=lgb_eval, \n",
    "                          num_boost_round=100,\n",
    "                          early_stopping_rounds=20,\n",
    "                          verbose_eval=10,\n",
    "                         )    \n",
    "    \n",
    "    y_pred = model_lgb.predict(X_valid, num_iteration=model_lgb.best_iteration)\n",
    "    tmp_rmse = np.sqrt(mean_squared_error(np.log(y_valid), np.log(y_pred)))\n",
    "    print(tmp_rmse)    \n",
    "              \n",
    "    models.append(model_lgb)    \n",
    "    rmses.append(tmp_rmse)\n",
    "    oof[val_index] = y_pred "
   ]
  },
  {
   "cell_type": "code",
   "execution_count": 20,
   "id": "1fdb96e2",
   "metadata": {},
   "outputs": [
    {
     "data": {
      "text/plain": [
       "0.13697846250952908"
      ]
     },
     "execution_count": 20,
     "metadata": {},
     "output_type": "execute_result"
    }
   ],
   "source": [
    "sum(rmses)/len(rmses)"
   ]
  },
  {
   "cell_type": "code",
   "execution_count": 21,
   "id": "de113bb9",
   "metadata": {},
   "outputs": [],
   "source": [
    "actual_pred_df=pd.DataFrame({\n",
    "    'actual':train_Y,\n",
    "    'pred':oof\n",
    "})"
   ]
  },
  {
   "cell_type": "code",
   "execution_count": 22,
   "id": "ee8ab8bc",
   "metadata": {},
   "outputs": [
    {
     "data": {
      "text/plain": [
       "<AxesSubplot:>"
      ]
     },
     "execution_count": 22,
     "metadata": {},
     "output_type": "execute_result"
    },
    {
     "data": {
      "image/png": "[encoded data removed]",
      "text/plain": [
       "<Figure size 864x360 with 1 Axes>"
      ]
     },
     "metadata": {},
     "output_type": "display_data"
    }
   ],
   "source": [
    "actual_pred_df.plot(figsize=(12,5))"
   ]
  },
  {
   "cell_type": "markdown",
   "id": "b79a1434",
   "metadata": {},
   "source": [
    "#### 각 변수의 중요도 확인"
   ]
  },
  {
   "cell_type": "code",
   "execution_count": 23,
   "id": "a780de36",
   "metadata": {},
   "outputs": [
    {
     "data": {
      "image/png": "[encoded data removed]",
      "text/plain": [
       "<Figure size 432x288 with 1 Axes>"
      ]
     },
     "metadata": {},
     "output_type": "display_data"
    },
    {
     "data": {
      "image/png": "[encoded data removed]",
      "text/plain": [
       "<Figure size 432x288 with 1 Axes>"
      ]
     },
     "metadata": {},
     "output_type": "display_data"
    },
    {
     "data": {
      "image/png": "[encoded data removed]",
      "text/plain": [
       "<Figure size 432x288 with 1 Axes>"
      ]
     },
     "metadata": {},
     "output_type": "display_data"
    }
   ],
   "source": [
    "#표시될 변수의 수 제한\n",
    "for model in models:\n",
    "    lgb.plot_importance(model,importance_type='gain',max_num_features=15)"
   ]
  },
  {
   "cell_type": "markdown",
   "id": "5538b964",
   "metadata": {},
   "source": [
    "## 3. 목적 변수의 전처리:목적 변수의 분포 확인\n",
    "#### SalePrice 데이터의 분포 확인"
   ]
  },
  {
   "cell_type": "code",
   "execution_count": 25,
   "id": "39f83a25",
   "metadata": {},
   "outputs": [
    {
     "data": {
      "text/plain": [
       "count      1460.000000\n",
       "mean     180921.195890\n",
       "std       79442.502883\n",
       "min       34900.000000\n",
       "25%      129975.000000\n",
       "50%      163000.000000\n",
       "75%      214000.000000\n",
       "max      755000.000000\n",
       "Name: SalePrice, dtype: float64"
      ]
     },
     "execution_count": 25,
     "metadata": {},
     "output_type": "execute_result"
    }
   ],
   "source": [
    "train_df['SalePrice'].describe()"
   ]
  },
  {
   "cell_type": "code",
   "execution_count": 26,
   "id": "1e8fbbdc",
   "metadata": {},
   "outputs": [
    {
     "data": {
      "text/plain": [
       "<AxesSubplot:ylabel='Frequency'>"
      ]
     },
     "execution_count": 26,
     "metadata": {},
     "output_type": "execute_result"
    },
    {
     "data": {
      "image/png": "[encoded data removed]",
      "text/plain": [
       "<Figure size 432x288 with 1 Axes>"
      ]
     },
     "metadata": {},
     "output_type": "display_data"
    }
   ],
   "source": [
    "train_df['SalePrice'].plot.hist(bins=20)"
   ]
  },
  {
   "cell_type": "markdown",
   "id": "6be8ca6e",
   "metadata": {},
   "source": [
    "푸아송 분포\n",
    "- 잘 일어나지 않는 사건이 실제로 일어날 확률의 분포를 나타날때 이용\n",
    "- 왼쪽으로 치우친다"
   ]
  },
  {
   "cell_type": "code",
   "execution_count": 27,
   "id": "8ecf03b4",
   "metadata": {},
   "outputs": [
    {
     "data": {
      "text/plain": [
       "0       12.247694\n",
       "1       12.109011\n",
       "2       12.317167\n",
       "3       11.849398\n",
       "4       12.429216\n",
       "          ...    \n",
       "1455    12.072541\n",
       "1456    12.254863\n",
       "1457    12.493130\n",
       "1458    11.864462\n",
       "1459    11.901583\n",
       "Name: SalePrice, Length: 1460, dtype: float64"
      ]
     },
     "execution_count": 27,
     "metadata": {},
     "output_type": "execute_result"
    }
   ],
   "source": [
    "#로그화\n",
    "np.log(train_df['SalePrice'])"
   ]
  },
  {
   "cell_type": "code",
   "execution_count": 28,
   "id": "f863e9a1",
   "metadata": {},
   "outputs": [
    {
     "data": {
      "text/plain": [
       "<AxesSubplot:ylabel='Frequency'>"
      ]
     },
     "execution_count": 28,
     "metadata": {},
     "output_type": "execute_result"
    },
    {
     "data": {
      "image/png": "[encoded data removed]",
      "text/plain": [
       "<Figure size 432x288 with 1 Axes>"
      ]
     },
     "metadata": {},
     "output_type": "display_data"
    }
   ],
   "source": [
    "np.log(train_df['SalePrice']).plot.hist(bins=20)"
   ]
  },
  {
   "cell_type": "code",
   "execution_count": 29,
   "id": "39d57037",
   "metadata": {},
   "outputs": [],
   "source": [
    "pd.options.mode.chained_assignment=None\n",
    "train_df_le['SalePrice_log']=np.log(train_df_le['SalePrice'])"
   ]
  },
  {
   "cell_type": "code",
   "execution_count": 32,
   "id": "08366d6f",
   "metadata": {},
   "outputs": [],
   "source": [
    "train_X=train_df_le.drop(['SalePrice','SalePrice_log','Id'],axis=1)\n",
    "train_Y=train_df_le['SalePrice_log']"
   ]
  },
  {
   "cell_type": "code",
   "execution_count": 33,
   "id": "97ef54cf",
   "metadata": {},
   "outputs": [
    {
     "name": "stdout",
     "output_type": "stream",
     "text": [
      "Training until validation scores don't improve for 20 rounds\n",
      "[10]\tvalid_0's l2: 0.0435757\n",
      "[20]\tvalid_0's l2: 0.0223987\n",
      "[30]\tvalid_0's l2: 0.0176962\n",
      "[40]\tvalid_0's l2: 0.0164304\n",
      "[50]\tvalid_0's l2: 0.0161943\n",
      "[60]\tvalid_0's l2: 0.0161858\n",
      "[70]\tvalid_0's l2: 0.0161666\n",
      "[80]\tvalid_0's l2: 0.0161769\n",
      "[90]\tvalid_0's l2: 0.0162121\n",
      "Early stopping, best iteration is:\n",
      "[73]\tvalid_0's l2: 0.0161129\n",
      "0.12693572281592597\n",
      "Training until validation scores don't improve for 20 rounds\n",
      "[10]\tvalid_0's l2: 0.0480056\n",
      "[20]\tvalid_0's l2: 0.0274907\n",
      "[30]\tvalid_0's l2: 0.022779\n",
      "[40]\tvalid_0's l2: 0.0214744\n",
      "[50]\tvalid_0's l2: 0.0209095\n",
      "[60]\tvalid_0's l2: 0.0205922\n",
      "[70]\tvalid_0's l2: 0.0204381\n",
      "[80]\tvalid_0's l2: 0.0203135\n",
      "[90]\tvalid_0's l2: 0.020318\n",
      "[100]\tvalid_0's l2: 0.0202246\n",
      "Did not meet early stopping. Best iteration is:\n",
      "[100]\tvalid_0's l2: 0.0202246\n",
      "0.1422133338842566\n",
      "Training until validation scores don't improve for 20 rounds\n",
      "[10]\tvalid_0's l2: 0.0388654\n",
      "[20]\tvalid_0's l2: 0.0209198\n",
      "[30]\tvalid_0's l2: 0.0176337\n",
      "[40]\tvalid_0's l2: 0.0169414\n",
      "[50]\tvalid_0's l2: 0.0167934\n",
      "[60]\tvalid_0's l2: 0.0167504\n",
      "[70]\tvalid_0's l2: 0.0168451\n",
      "Early stopping, best iteration is:\n",
      "[56]\tvalid_0's l2: 0.0167371\n",
      "0.12937198746846823\n"
     ]
    }
   ],
   "source": [
    "import warnings\n",
    "warnings.filterwarnings(\"ignore\")\n",
    "\n",
    "models = []\n",
    "rmses = []\n",
    "oof = np.zeros(len(train_X))\n",
    "\n",
    "for train_index, val_index in kf.split(train_X):\n",
    "    X_train = train_X.iloc[train_index]\n",
    "    X_valid = train_X.iloc[val_index]\n",
    "    y_train = train_Y.iloc[train_index]\n",
    "    y_valid = train_Y.iloc[val_index]\n",
    "        \n",
    "    lgb_train = lgb.Dataset(X_train, y_train)\n",
    "    lgb_eval = lgb.Dataset(X_valid, y_valid, reference=lgb_train)    \n",
    "    \n",
    "    model_lgb = lgb.train(lgbm_params, \n",
    "                          lgb_train, \n",
    "                          valid_sets=lgb_eval, \n",
    "                          num_boost_round=100,\n",
    "                          early_stopping_rounds=20,\n",
    "                          verbose_eval=10,\n",
    "                         )    \n",
    "    \n",
    "    y_pred = model_lgb.predict(X_valid, num_iteration=model_lgb.best_iteration)\n",
    "    tmp_rmse = np.sqrt(mean_squared_error(y_valid, y_pred))\n",
    "    print(tmp_rmse)    \n",
    "              \n",
    "    models.append(model_lgb)    \n",
    "    rmses.append(tmp_rmse)\n",
    "    oof[val_index] = y_pred"
   ]
  },
  {
   "cell_type": "code",
   "execution_count": 34,
   "id": "a05c21da",
   "metadata": {},
   "outputs": [
    {
     "data": {
      "text/plain": [
       "0.13284034805621694"
      ]
     },
     "execution_count": 34,
     "metadata": {},
     "output_type": "execute_result"
    }
   ],
   "source": [
    "sum(rmses)/len(rmses)"
   ]
  },
  {
   "cell_type": "markdown",
   "id": "25ff5b2b",
   "metadata": {},
   "source": [
    "정확도가 높아졌다."
   ]
  },
  {
   "cell_type": "markdown",
   "id": "09fa7723",
   "metadata": {},
   "source": [
    "## 4. 설명 변수의 전처리: 결측치 확인"
   ]
  },
  {
   "cell_type": "code",
   "execution_count": 35,
   "id": "0070c449",
   "metadata": {},
   "outputs": [],
   "source": [
    "all_df=pd.concat([train_df,test_df],sort=False).reset_index(drop=True)"
   ]
  },
  {
   "cell_type": "code",
   "execution_count": 36,
   "id": "83659550",
   "metadata": {},
   "outputs": [
    {
     "name": "stdout",
     "output_type": "stream",
     "text": [
      "Index(['MSZoning', 'Street', 'Alley', 'LotShape', 'LandContour', 'Utilities',\n",
      "       'LotConfig', 'LandSlope', 'Neighborhood', 'Condition1', 'Condition2',\n",
      "       'BldgType', 'HouseStyle', 'RoofStyle', 'RoofMatl', 'Exterior1st',\n",
      "       'Exterior2nd', 'MasVnrType', 'ExterQual', 'ExterCond', 'Foundation',\n",
      "       'BsmtQual', 'BsmtCond', 'BsmtExposure', 'BsmtFinType1', 'BsmtFinType2',\n",
      "       'Heating', 'HeatingQC', 'CentralAir', 'Electrical', 'KitchenQual',\n",
      "       'Functional', 'FireplaceQu', 'GarageType', 'GarageFinish', 'GarageQual',\n",
      "       'GarageCond', 'PavedDrive', 'PoolQC', 'Fence', 'MiscFeature',\n",
      "       'SaleType', 'SaleCondition'],\n",
      "      dtype='object')\n"
     ]
    }
   ],
   "source": [
    "categories=all_df.columns[all_df.dtypes=='object']\n",
    "print(categories)"
   ]
  },
  {
   "cell_type": "code",
   "execution_count": 37,
   "id": "02b6ec97",
   "metadata": {},
   "outputs": [
    {
     "data": {
      "text/plain": [
       "PoolQC           2909\n",
       "MiscFeature      2814\n",
       "Alley            2721\n",
       "Fence            2348\n",
       "SalePrice        1459\n",
       "FireplaceQu      1420\n",
       "LotFrontage       486\n",
       "GarageFinish      159\n",
       "GarageQual        159\n",
       "GarageCond        159\n",
       "GarageYrBlt       159\n",
       "GarageType        157\n",
       "BsmtExposure       82\n",
       "BsmtCond           82\n",
       "BsmtQual           81\n",
       "BsmtFinType2       80\n",
       "BsmtFinType1       79\n",
       "MasVnrType         24\n",
       "MasVnrArea         23\n",
       "MSZoning            4\n",
       "Functional          2\n",
       "BsmtHalfBath        2\n",
       "BsmtFullBath        2\n",
       "Utilities           2\n",
       "BsmtFinSF1          1\n",
       "BsmtFinSF2          1\n",
       "SaleType            1\n",
       "Electrical          1\n",
       "GarageCars          1\n",
       "TotalBsmtSF         1\n",
       "GarageArea          1\n",
       "Exterior2nd         1\n",
       "Exterior1st         1\n",
       "KitchenQual         1\n",
       "BsmtUnfSF           1\n",
       "Fireplaces          0\n",
       "TotRmsAbvGrd        0\n",
       "SaleCondition       0\n",
       "OpenPorchSF         0\n",
       "YrSold              0\n",
       "dtype: int64"
      ]
     },
     "execution_count": 37,
     "metadata": {},
     "output_type": "execute_result"
    }
   ],
   "source": [
    "all_df.isnull().sum().sort_values(ascending=False).head(40)"
   ]
  },
  {
   "cell_type": "code",
   "execution_count": 40,
   "id": "959f9375",
   "metadata": {},
   "outputs": [
    {
     "data": {
      "text/plain": [
       "Ex    4\n",
       "Gd    4\n",
       "Fa    2\n",
       "Name: PoolQC, dtype: int64"
      ]
     },
     "execution_count": 40,
     "metadata": {},
     "output_type": "execute_result"
    }
   ],
   "source": [
    "all_df.PoolQC.value_counts()"
   ]
  },
  {
   "cell_type": "code",
   "execution_count": 41,
   "id": "a987ff13",
   "metadata": {},
   "outputs": [],
   "source": [
    "#결과값 있으면 1 없으면 0\n",
    "all_df.loc[~all_df['PoolQC'].isnull(),'PoolQC']=1\n",
    "all_df.loc[all_df['PoolQC'].isnull(),'PoolQC']=0"
   ]
  },
  {
   "cell_type": "code",
   "execution_count": 42,
   "id": "0a11bded",
   "metadata": {},
   "outputs": [
    {
     "data": {
      "text/plain": [
       "0    2909\n",
       "1      10\n",
       "Name: PoolQC, dtype: int64"
      ]
     },
     "execution_count": 42,
     "metadata": {},
     "output_type": "execute_result"
    }
   ],
   "source": [
    "all_df.PoolQC.value_counts()"
   ]
  },
  {
   "cell_type": "code",
   "execution_count": 43,
   "id": "915efe9b",
   "metadata": {},
   "outputs": [],
   "source": [
    "#MiscFeature, Alley도 똑같이 처리\n",
    "all_df.loc[~all_df['MiscFeature'].isnull(),'MiscFeature']=1\n",
    "all_df.loc[all_df['MiscFeature'].isnull(),'MiscFeature']=0\n",
    "\n",
    "all_df.loc[~all_df['Alley'].isnull(),'Alley']=1\n",
    "all_df.loc[all_df['Alley'].isnull(),'Alley']=0"
   ]
  },
  {
   "cell_type": "code",
   "execution_count": 48,
   "id": "bc322da4",
   "metadata": {},
   "outputs": [],
   "source": [
    "#for문으로 편하게 작업\n",
    "HighFacility_col=['PoolQC','MiscFeature','Alley']\n",
    "for col in HighFacility_col:\n",
    "    if all_df[col].dtype=='object':\n",
    "        if len(all_df[all_df[col].isnull()])>0:\n",
    "            all_df.loc[~all_df[col].isnull(),col]=1\n",
    "            all_df.loc[all_df[col].isnull(),col]=0"
   ]
  },
  {
   "cell_type": "code",
   "execution_count": 49,
   "id": "db2d9219",
   "metadata": {},
   "outputs": [],
   "source": [
    "#새로운 고급 설비 변수 생성\n",
    "all_df['hasHighFacility']=all_df['PoolQC']+all_df['MiscFeature']+all_df['Alley']"
   ]
  },
  {
   "cell_type": "code",
   "execution_count": 50,
   "id": "95f1cd45",
   "metadata": {},
   "outputs": [],
   "source": [
    "all_df['hasHighFacility']=all_df['hasHighFacility'].astype(int)"
   ]
  },
  {
   "cell_type": "code",
   "execution_count": 51,
   "id": "03dd4613",
   "metadata": {},
   "outputs": [
    {
     "data": {
      "text/plain": [
       "0    2615\n",
       "1     295\n",
       "2       9\n",
       "Name: hasHighFacility, dtype: int64"
      ]
     },
     "execution_count": 51,
     "metadata": {},
     "output_type": "execute_result"
    }
   ],
   "source": [
    "all_df['hasHighFacility'].value_counts()"
   ]
  },
  {
   "cell_type": "code",
   "execution_count": 52,
   "id": "0812a5c8",
   "metadata": {},
   "outputs": [],
   "source": [
    "all_df=all_df.drop(['PoolQC','MiscFeature','Alley'],axis=1)"
   ]
  },
  {
   "cell_type": "markdown",
   "id": "73814a0c",
   "metadata": {},
   "source": [
    "## 5.이상치 제외\n",
    "크기가 너무 넓거나 방 개수가 너무 많은 주택 등 일반적인 경향과 다른 데이터가 있는지 확인한다.\n",
    "#### 이상치란\n",
    "- 통상적인 경향과 다른 값\n",
    "- 이상치가 존재하면 예측 정확도가 떨어진다"
   ]
  },
  {
   "cell_type": "code",
   "execution_count": null,
   "id": "0e13f42c",
   "metadata": {},
   "outputs": [],
   "source": []
  }
 ],
 "metadata": {
  "kernelspec": {
   "display_name": "Python 3 (ipykernel)",
   "language": "python",
   "name": "python3"
  },
  "language_info": {
   "codemirror_mode": {
    "name": "ipython",
    "version": 3
   },
   "file_extension": ".py",
   "mimetype": "text/x-python",
   "name": "python",
   "nbconvert_exporter": "python",
   "pygments_lexer": "ipython3",
   "version": "3.9.12"
  }
 },
 "nbformat": 4,
 "nbformat_minor": 5
}
