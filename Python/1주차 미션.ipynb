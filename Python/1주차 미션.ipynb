{
 "cells": [
  {
   "attachments": {},
   "cell_type": "markdown",
   "metadata": {},
   "source": [
    "1. 그렇다면 num_list 가 홀수인 데이터만 출력하도록 하는 함수를 작성해보세요."
   ]
  },
  {
   "cell_type": "code",
   "execution_count": 2,
   "metadata": {},
   "outputs": [
    {
     "name": "stdout",
     "output_type": "stream",
     "text": [
      "[1, 5, 7, 15, 29]\n"
     ]
    }
   ],
   "source": [
    "num_list=[1,5,7,15,16,22,28,29]\n",
    "\n",
    "def get_odd_num(num_list):\n",
    "    return [x for x in num_list if x%2!=0]\n",
    "    \n",
    "print(get_odd_num(num_list))"
   ]
  },
  {
   "attachments": {},
   "cell_type": "markdown",
   "metadata": {},
   "source": [
    "2. string 문장을 받아 단어를 역순으로 출력하는 함수를 작성하세요."
   ]
  },
  {
   "cell_type": "code",
   "execution_count": 11,
   "metadata": {},
   "outputs": [
    {
     "name": "stdout",
     "output_type": "stream",
     "text": [
      "where there is a will there is a way\n"
     ]
    }
   ],
   "source": [
    "sentence='way a is there will a is there where'\n",
    "\n",
    "def reverse_sentence(sentence):\n",
    "    word=sentence.split(' ')\n",
    "    return \" \".join(word[::-1])\n",
    "print(reverse_sentence(sentence))"
   ]
  },
  {
   "attachments": {},
   "cell_type": "markdown",
   "metadata": {},
   "source": [
    "3. 리스트와 반복문을 사용해 데이터를 불러오세요.\n",
    "   이를 이용해 각 학생별 평균을 구해보세요"
   ]
  },
  {
   "cell_type": "code",
   "execution_count": 16,
   "metadata": {},
   "outputs": [
    {
     "name": "stdout",
     "output_type": "stream",
     "text": [
      "1 번, 평균 : 100.0\n",
      "2 번, 평균 : 92.5\n",
      "3 번, 평균 : 57.5\n",
      "4 번, 평균 : 77.5\n",
      "5 번, 평균 : 70.0\n"
     ]
    }
   ],
   "source": [
    "score=[(100,100),(95,90),(55,60),(75,80),(70,70)]\n",
    "\n",
    "def get_avg(score):\n",
    "    mean=[(x[0]+x[1])/2 for x in score]\n",
    "    for i in range(len(mean)):\n",
    "        print(f'{i+1} 번, 평균 : {mean[i]}')\n",
    "get_avg(score)"
   ]
  },
  {
   "attachments": {},
   "cell_type": "markdown",
   "metadata": {},
   "source": [
    "4. 중복되는 물품은 합쳐서 표시하세요.\n",
    "   각 딕셔너리 데이터의 데이터의 키값을 이용해 중복을 확인해보세요."
   ]
  },
  {
   "cell_type": "code",
   "execution_count": 33,
   "metadata": {},
   "outputs": [
    {
     "name": "stdout",
     "output_type": "stream",
     "text": [
      "{'사과': 35, '배': 30, '감': 35, '포도': 10, '귤': 25}\n"
     ]
    },
    {
     "data": {
      "text/plain": [
       "{'A': 1, 'B': 2, 'C': 3, 'D': 1, 'E': 2, 'F': 3}"
      ]
     },
     "execution_count": 33,
     "metadata": {},
     "output_type": "execute_result"
    }
   ],
   "source": [
    "from collections import Counter\n",
    "\n",
    "dict_first={'사과':30,'배':15,'감':10,'포도':10}\n",
    "dict_second={'사과':5,'감':25,'배':15,'귤':25}\n",
    "\n",
    "def merge_dict(dict_first, dict_second):\n",
    "    result = dict(Counter(dict_first)+Counter(dict_second))\n",
    "    print(result)\n",
    "merge_dict(dict_first, dict_second)\n",
    "\n",
    "    "
   ]
  },
  {
   "attachments": {},
   "cell_type": "markdown",
   "metadata": {},
   "source": [
    "5. 함수에 string을 전달 받은 뒤, string 안에서의 숫 자를 제거한 후 string만 남은 리스트를 출력하세요."
   ]
  },
  {
   "attachments": {},
   "cell_type": "markdown",
   "metadata": {},
   "source": [
    "input='cat32dog16cow5'"
   ]
  },
  {
   "cell_type": "code",
   "execution_count": 24,
   "metadata": {},
   "outputs": [
    {
     "name": "stdout",
     "output_type": "stream",
     "text": [
      "['cat', 'dog', 'cow ']\n"
     ]
    }
   ],
   "source": [
    "import re\n",
    "\n",
    "inputs='cat32dog16cow5'\n",
    "\n",
    "def find_string(inputs):\n",
    "    new_str = re.sub(r\"[^a-zA-Z]\", \" \", inputs)\n",
    "    \n",
    "    return new_str.split(\"  \")\n",
    "\n",
    "string_list=find_string(inputs)\n",
    "print(string_list)"
   ]
  }
 ],
 "metadata": {
  "kernelspec": {
   "display_name": "baek",
   "language": "python",
   "name": "python3"
  },
  "language_info": {
   "codemirror_mode": {
    "name": "ipython",
    "version": 3
   },
   "file_extension": ".py",
   "mimetype": "text/x-python",
   "name": "python",
   "nbconvert_exporter": "python",
   "pygments_lexer": "ipython3",
   "version": "3.8.10 (default, May 19 2021, 13:12:57) [MSC v.1916 64 bit (AMD64)]"
  },
  "orig_nbformat": 4,
  "vscode": {
   "interpreter": {
    "hash": "8e9bbfcf25c63d0f05de5a9087fbde62af5a96a5f83668e22009a644a495c2a1"
   }
  }
 },
 "nbformat": 4,
 "nbformat_minor": 2
}
