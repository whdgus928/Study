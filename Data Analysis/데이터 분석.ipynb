{
 "cells": [
  {
   "cell_type": "markdown",
   "id": "554c73dd",
   "metadata": {},
   "source": [
    "## 데이터 분석 순서\n",
    "1. 목적, 평가 지표 결정\n",
    "- 무엇을 위해, 어떤 데이터를 사용, 어떤 분석을 할지, 결과를 어떤 지표로 평가할지\n",
    "2. 데이터 수집\n",
    "- 내부와 외부 환경에서 데이터 수집\n",
    "3. 데이터 가공 및 전처리\n",
    "- 수집한 데이터를 통합하여 분석에 적합한 포맷으로 가공하고 결손치 처리\n",
    "4. 데이터 탐색 및 가시화\n",
    "- 데이터 분포나 경향, 개요 등을 가시화 가설,과제 정리\n",
    "5. 특징 값 추출\n",
    "- 머신 러닝 모델에 입력할 수 있는 다양한 특징 값 작성\n",
    "6. 모델 작성, 예측 및 분류\n",
    "- 모델의 설정 값을 조정하면서 예측 정밀도가 높은 모델을 작성, 머신 러닝 모델 여러개 조합\n",
    "7. 모델 검증\n",
    "- 테스트 과정 거치며 효과 검증\n",
    "\n",
    "캐글에서는 3-6까지가 목적\n",
    "\n",
    "### 단어정리\n",
    "\n",
    "목적 변수: 최종적으로 예측해야 할 값 ex)매출<br>\n",
    "설명 변수: 목적 변수의 원인이 되는 값 ex)월, 요일, 날씨, 할인 판매<br>\n",
    "학습 데이터: 설명 변수와 목적 변수를 합친 것<br>\n",
    "테스트 데이터: 설명 변수만 있고 목적 면수가 없는 데이터\n"
   ]
  },
  {
   "cell_type": "code",
   "execution_count": null,
   "id": "2bd33617",
   "metadata": {},
   "outputs": [],
   "source": []
  }
 ],
 "metadata": {
  "kernelspec": {
   "display_name": "Python 3 (ipykernel)",
   "language": "python",
   "name": "python3"
  },
  "language_info": {
   "codemirror_mode": {
    "name": "ipython",
    "version": 3
   },
   "file_extension": ".py",
   "mimetype": "text/x-python",
   "name": "python",
   "nbconvert_exporter": "python",
   "pygments_lexer": "ipython3",
   "version": "3.9.12"
  }
 },
 "nbformat": 4,
 "nbformat_minor": 5
}
