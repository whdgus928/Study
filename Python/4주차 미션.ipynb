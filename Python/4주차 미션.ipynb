{
 "cells": [
  {
   "attachments": {},
   "cell_type": "markdown",
   "metadata": {},
   "source": [
    "Q1. 먼저 Pandas에서 지원하는 Series에 대해서 한번 다뤄보겠습니다.아래와 같이 인덱스와 데이터가 주어져있을때 Pandas의 Series 형태로 만들어보세요.\n",
    "\n",
    "주어진 데이터에서 10이상 20이하의 데이터만 출력하는 Series를 재정의 해보세요."
   ]
  },
  {
   "cell_type": "code",
   "execution_count": 8,
   "metadata": {},
   "outputs": [
    {
     "name": "stdout",
     "output_type": "stream",
     "text": [
      "HDD    19\n",
      "SSD    11\n",
      "dtype: int64\n"
     ]
    }
   ],
   "source": [
    "import pandas as pd\n",
    "\n",
    "idx = [\"HDD\", \"SSD\", \"USB\", \"CLOUD\"]\n",
    "data= [19, 11, 5, 97]\n",
    "\n",
    "#위 데이터로 Series를 구현해보세요.\n",
    "series = pd.Series(data, index=idx)\n",
    "\n",
    "# 10 이상 20 이하를 가지는 데이터만 이용해 다시 series를 정의하세요.\n",
    "series = series[(series<=20) & (series>=10)]\n",
    "\n",
    "print(series)"
   ]
  },
  {
   "attachments": {},
   "cell_type": "markdown",
   "metadata": {},
   "source": [
    "📌Q2. 두번째로 Pandas에서 지원하는 Dataframe을 다뤄보도록 하겠습니다. 다음과 같이 과일과 야채 각각 정리된 데이터가 있습니다. 이 두 데이터를 따로 보기엔 효율성이 떨어지니, 각 표에 정리된 데이터를 각각 하나의 데이터 프레임으로 생성한 후 다음 세부 구현을 진행해보세요.\n",
    "\n",
    "두 데이터를 하나의 데이터로 결합해보세요.\n",
    "결합한 데이터의 type을 이용해 데이터를 정렬해보세요.\n",
    "최종적으로 과일과 야채 중 가장 비싼 가격의 합을 출력해보세요."
   ]
  },
  {
   "cell_type": "code",
   "execution_count": 22,
   "metadata": {},
   "outputs": [
    {
     "name": "stdout",
     "output_type": "stream",
     "text": [
      "Sum of Top 2 Fruit Price :   230\n",
      "Sum of Top 2 Vegetable Price :  150\n"
     ]
    }
   ],
   "source": [
    "import pandas as pd\n",
    "a=[['cherry','Fruit',100],\n",
    "   ['mango','Fruit',110],\n",
    "   ['potato','Vegetable',60],\n",
    "   ['onion','Vegetable',80]\n",
    "   ]\n",
    "\n",
    "df1 = pd.DataFrame(a,columns=[\"Name\", \"Type\", \"Price\"] )\n",
    "\n",
    "\n",
    "b=[['pepper','Vegetable',50],\n",
    "   ['carrot','Vegetable',70],\n",
    "   ['banana','Fruit',90],\n",
    "   ['kiwi','Fruit',120]\n",
    "   ]\n",
    "\n",
    "df2 = pd.DataFrame(b,columns=[\"Name\", \"Type\", \"Price\"] )\n",
    "\n",
    "\n",
    "\n",
    "# df1, df2를 colums를 이용해 결합\n",
    "df3= pd.concat([df1,df2])\n",
    "\n",
    "# # Fruit와 Vegetable의 type에 따라 정렬하고, 가격을 내림차순으로 정리 \n",
    "df_fruit = sorted(list(df3[df3['Type']=='Fruit']['Price']),reverse=True)\n",
    "df_veg = sorted(list(df3[df3['Type']=='Vegetable']['Price']),reverse=True)\n",
    "\n",
    "# Fruit와 Vegetable 상위 2개의 가격의 합을 출력 \n",
    "print(\"Sum of Top 2 Fruit Price :  \", sum(df_fruit[:2]))\n",
    "print(\"Sum of Top 2 Vegetable Price : \", sum(df_veg[:2]))"
   ]
  },
  {
   "attachments": {},
   "cell_type": "markdown",
   "metadata": {},
   "source": [
    "📌Q3. 총 5명에서 게임을 진행했습니다. 총 5개 라운드를 진행했고, 각각 참여자당 5개의 점수를 받았습니다. 주어진 데이터를 dataframe의 형태로 만든 후 각 세부 구현을 진행해보세요.\n",
    "\n",
    "참여자의 이름을 index로 해서 각 라운드의 columns를 추가해 데이터를 정리해보세요.\n",
    "6번째 라운드의 점수가 아래와 같을 때, 이를 추가해보세요.\n",
    "각 데이터의 mean, max, min 값을 출력해보세요."
   ]
  },
  {
   "cell_type": "code",
   "execution_count": 29,
   "metadata": {},
   "outputs": [
    {
     "name": "stdout",
     "output_type": "stream",
     "text": [
      "      round_1  round_2  round_3  round_4  round_5  round_6\n",
      "Sue        55       65       60       66       57       11\n",
      "Ryan       64       77       71       79       67       15\n",
      "Jay        88       81       79       89       77       13\n",
      "Jane       45       35       30       46       47       17\n",
      "Anna       91       96       90       97       99       19\n",
      "      round_1  round_2  round_3  round_4  round_5  round_6\n",
      "mean     68.6     70.8     66.0     75.4     69.4     15.0\n",
      "max      91.0     96.0     90.0     97.0     99.0     19.0\n",
      "min      45.0     35.0     30.0     46.0     47.0     11.0\n"
     ]
    }
   ],
   "source": [
    "import pandas as pd\n",
    "\n",
    "idx = [\"Sue\", \"Ryan\", \"Jay\", \"Jane\", \"Anna\"]\n",
    "col = [\"round_1\", \"round_2\", \"round_3\", \"round_4\", \"round_5\"] \n",
    "data= [[55, 65, 60, 66, 57],\n",
    "            [64, 77, 71, 79, 67],\n",
    "            [88, 81, 79, 89, 77],\n",
    "            [45, 35, 30, 46, 47],\n",
    "            [91, 96, 90, 97, 99]]\n",
    "\n",
    "#위 데이터를 이용해 dataframe을 구성해보세요.\n",
    "df = pd.DataFrame(data,index=idx, columns=col)\n",
    "\n",
    "#df에 새로운 column인 round_6의 데이터 [11, 15, 13, 17, 19]를 추가해보세요. \n",
    "col_round6 = [11, 15, 13, 17, 19]\n",
    "df.insert(5,'round_6',col_round6)\n",
    "\n",
    "#각 데이터의 mean, max, min 값을 구해 출력해보세요. \n",
    "print(df)\n",
    "print(df.describe().loc[['mean','max','min']])"
   ]
  },
  {
   "attachments": {},
   "cell_type": "markdown",
   "metadata": {},
   "source": [
    "Q4. 이번 미션부터는 Matplotlib을 이용해 간단히 그래프를 출력해보도록 하겠습니다. 다음과 같은 데이터 t가 주어져있을때, 출력 예시로 제안된 그래프를 출력해보세요.\n",
    "\n",
    "Plot 함수 내 각 마커의 색상과 모양을 표현하는 방법을 확인해보세요."
   ]
  },
  {
   "cell_type": "code",
   "execution_count": 56,
   "metadata": {},
   "outputs": [
    {
     "data": {
      "image/png": "[encoded data removed]",
      "text/plain": [
       "<Figure size 432x288 with 1 Axes>"
      ]
     },
     "metadata": {
      "needs_background": "light"
     },
     "output_type": "display_data"
    }
   ],
   "source": [
    "import numpy as np\n",
    "import matplotlib.pyplot as plt\n",
    "\n",
    "t1 = np.arange(0., 5., 0.1)\n",
    "t2 = np.arange(0., 5., 0.2)\n",
    "t3 = np.arange(0., 5., 0.3)\n",
    "\n",
    "# 사용 마커는 다음과 같습니다. red dashes, blue suares, green triangles\n",
    "plt.plot(t1,c='red',linestyle='dashed')\n",
    "plt.plot(t2,'bs') \n",
    "plt.plot(t3,'g^') \n",
    "plt.show()"
   ]
  },
  {
   "attachments": {},
   "cell_type": "markdown",
   "metadata": {},
   "source": [
    "📌Q5. Matplotlib을 이용해서 아래와 같은 데이터가 주어졌을때, 출력 예시와 같은 형태로 그래프를 출력해보세요.\n",
    "\n",
    "각 그룹별 데이터를 다른 형식의 그래프로 생성해보세요. 각각 막대, 점, 선 그래프입니다."
   ]
  },
  {
   "cell_type": "code",
   "execution_count": 54,
   "metadata": {},
   "outputs": [
    {
     "data": {
      "image/png": "[encoded data removed]",
      "text/plain": [
       "<Figure size 648x216 with 1 Axes>"
      ]
     },
     "metadata": {
      "needs_background": "light"
     },
     "output_type": "display_data"
    },
    {
     "data": {
      "image/png": "[encoded data removed]",
      "text/plain": [
       "<Figure size 432x288 with 1 Axes>"
      ]
     },
     "metadata": {
      "needs_background": "light"
     },
     "output_type": "display_data"
    },
    {
     "data": {
      "image/png": "[encoded data removed]",
      "text/plain": [
       "<Figure size 432x288 with 1 Axes>"
      ]
     },
     "metadata": {
      "needs_background": "light"
     },
     "output_type": "display_data"
    }
   ],
   "source": [
    "import matplotlib.pyplot as plt\n",
    "\n",
    "names = ['group_a', 'group_b', 'group_c'] \n",
    "values = [1, 10, 100]\n",
    "x=[0,1,2]\n",
    "plt.figure(figsize=(9, 3))\n",
    "\n",
    "plt.bar(x,values)\n",
    "plt.show()\n",
    "plt.plot(x,values,'bo')\n",
    "plt.show()\n",
    "plt.plot(x,values)\n",
    "plt.show()"
   ]
  },
  {
   "cell_type": "code",
   "execution_count": null,
   "metadata": {},
   "outputs": [],
   "source": []
  }
 ],
 "metadata": {
  "kernelspec": {
   "display_name": "baek",
   "language": "python",
   "name": "python3"
  },
  "language_info": {
   "codemirror_mode": {
    "name": "ipython",
    "version": 3
   },
   "file_extension": ".py",
   "mimetype": "text/x-python",
   "name": "python",
   "nbconvert_exporter": "python",
   "pygments_lexer": "ipython3",
   "version": "3.8.10"
  },
  "orig_nbformat": 4,
  "vscode": {
   "interpreter": {
    "hash": "8e9bbfcf25c63d0f05de5a9087fbde62af5a96a5f83668e22009a644a495c2a1"
   }
  }
 },
 "nbformat": 4,
 "nbformat_minor": 2
}
